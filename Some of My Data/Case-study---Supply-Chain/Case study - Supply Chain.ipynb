{
 "cells": [
  {
   "cell_type": "code",
   "execution_count": 96,
   "id": "cc0e2112-2bae-43a7-902e-6b2da8b9d62c",
   "metadata": {},
   "outputs": [
    {
     "name": "stderr",
     "output_type": "stream",
     "text": [
      "C:\\Users\\ricsc\\AppData\\Local\\Temp\\ipykernel_30020\\1123699924.py:1: DeprecationWarning: Importing display from IPython.core.display is deprecated since IPython 7.14, please import from IPython display\n",
      "  from IPython.core.display import display, HTML\n"
     ]
    },
    {
     "data": {
      "text/html": [
       "\n",
       "<!DOCTYPE html>\n",
       "<html lang=\"it\">\n",
       "<head>\n",
       "    <meta charset=\"UTF-8\">\n",
       "    <title>Introduzione - Supply Chain Data Analysis</title>\n",
       "    <style>\n",
       "        body { font-family: Arial, sans-serif; line-height: 1.6; color: #333; max-width: 800px; margin: auto; padding: 20px; }\n",
       "        h1, h2 { color: #0056b3; text-align: center; }\n",
       "        p { text-align: justify; }\n",
       "    </style>\n",
       "</head>\n",
       "<body>\n",
       "\n",
       "    <h1>Supply Chain Data Analysis Project</h1>\n",
       "    <h2>Introduzione</h2>\n",
       "    <p>In questo progetto di analisi dei dati, ci concentriamo sulla catena di approvvigionamento di un'azienda, utilizzando metodi di analisi avanzati per identificare aree di ottimizzazione. \n",
       "    L'obiettivo è migliorare la logistica, ridurre i costi operativi e garantire che i processi di approvvigionamento siano efficienti e affidabili. \n",
       "    Analizzeremo dati come i tempi di consegna, i costi di trasporto, i volumi di produzione e le prestazioni dei fornitori, al fine di trarre conclusioni strategiche \n",
       "    e supportare le decisioni aziendali per una gestione della supply chain più efficace.</p>\n",
       "\n",
       "</body>\n",
       "</html>\n"
      ],
      "text/plain": [
       "<IPython.core.display.HTML object>"
      ]
     },
     "metadata": {},
     "output_type": "display_data"
    }
   ],
   "source": [
    "from IPython.core.display import display, HTML\n",
    "\n",
    "html_intro = \"\"\"\n",
    "<!DOCTYPE html>\n",
    "<html lang=\"it\">\n",
    "<head>\n",
    "    <meta charset=\"UTF-8\">\n",
    "    <title>Introduzione - Supply Chain Data Analysis</title>\n",
    "    <style>\n",
    "        body { font-family: Arial, sans-serif; line-height: 1.6; color: #333; max-width: 800px; margin: auto; padding: 20px; }\n",
    "        h1, h2 { color: #0056b3; text-align: center; }\n",
    "        p { text-align: justify; }\n",
    "    </style>\n",
    "</head>\n",
    "<body>\n",
    "\n",
    "    <h1>Supply Chain Data Analysis Project</h1>\n",
    "    <h2>Introduzione</h2>\n",
    "    <p>In questo progetto di analisi dei dati, ci concentriamo sulla catena di approvvigionamento di un'azienda, utilizzando metodi di analisi avanzati per identificare aree di ottimizzazione. \n",
    "    L'obiettivo è migliorare la logistica, ridurre i costi operativi e garantire che i processi di approvvigionamento siano efficienti e affidabili. \n",
    "    Analizzeremo dati come i tempi di consegna, i costi di trasporto, i volumi di produzione e le prestazioni dei fornitori, al fine di trarre conclusioni strategiche \n",
    "    e supportare le decisioni aziendali per una gestione della supply chain più efficace.</p>\n",
    "\n",
    "</body>\n",
    "</html>\n",
    "\"\"\"\n",
    "\n",
    "# Visualizzazione nel notebook\n",
    "display(HTML(html_intro))"
   ]
  },
  {
   "cell_type": "code",
   "execution_count": 76,
   "id": "e2c7e90d-b132-4ca1-b246-c566157259b1",
   "metadata": {},
   "outputs": [
    {
     "name": "stdout",
     "output_type": "stream",
     "text": [
      "<class 'pandas.core.frame.DataFrame'>\n",
      "RangeIndex: 100 entries, 0 to 99\n",
      "Data columns (total 24 columns):\n",
      " #   Column                   Non-Null Count  Dtype  \n",
      "---  ------                   --------------  -----  \n",
      " 0   Product type             100 non-null    object \n",
      " 1   SKU                      100 non-null    object \n",
      " 2   Price                    100 non-null    float64\n",
      " 3   Availability             100 non-null    int64  \n",
      " 4   Number of products sold  100 non-null    int64  \n",
      " 5   Revenue generated        100 non-null    float64\n",
      " 6   Customer demographics    100 non-null    object \n",
      " 7   Stock levels             100 non-null    int64  \n",
      " 8   Lead times               100 non-null    int64  \n",
      " 9   Order quantities         100 non-null    int64  \n",
      " 10  Shipping times           100 non-null    int64  \n",
      " 11  Shipping carriers        100 non-null    object \n",
      " 12  Shipping costs           100 non-null    float64\n",
      " 13  Supplier name            100 non-null    object \n",
      " 14  Location                 100 non-null    object \n",
      " 15  Lead time                100 non-null    int64  \n",
      " 16  Production volumes       100 non-null    int64  \n",
      " 17  Manufacturing lead time  100 non-null    int64  \n",
      " 18  Manufacturing costs      100 non-null    float64\n",
      " 19  Inspection results       100 non-null    object \n",
      " 20  Defect rates             100 non-null    float64\n",
      " 21  Transportation modes     100 non-null    object \n",
      " 22  Routes                   100 non-null    object \n",
      " 23  Costs                    100 non-null    float64\n",
      "dtypes: float64(6), int64(9), object(9)\n",
      "memory usage: 18.9+ KB\n"
     ]
    }
   ],
   "source": [
    "# Prima di tutto, carichiamo il nuovo dataset per comprendere la sua struttura e il contenuto.\n",
    "# Questo ci permetterà di procedere con un case study completo e specifico utilizzando i nomi reali delle colonne.\n",
    "\n",
    "import pandas as pd\n",
    "# Carichiamo il dataset\n",
    "file_path = 'supply_chain_data.csv'\n",
    "supply_chain_data = pd.read_csv(file_path)\n",
    "\n",
    "# Mostriamo le prime righe dataset\n",
    "supply_chain_data.head(), supply_chain_data.info()\n",
    "\n",
    "data = pd.read_csv(file_path)\n"
   ]
  },
  {
   "cell_type": "code",
   "execution_count": 77,
   "id": "795d3c74-99dc-4644-aac8-d3adcaea6913",
   "metadata": {},
   "outputs": [
    {
     "name": "stdout",
     "output_type": "stream",
     "text": [
      "<class 'pandas.core.frame.DataFrame'>\n",
      "RangeIndex: 100 entries, 0 to 99\n",
      "Data columns (total 24 columns):\n",
      " #   Column                   Non-Null Count  Dtype  \n",
      "---  ------                   --------------  -----  \n",
      " 0   Product type             100 non-null    object \n",
      " 1   SKU                      100 non-null    object \n",
      " 2   Price                    100 non-null    float64\n",
      " 3   Availability             100 non-null    float64\n",
      " 4   Number of products sold  100 non-null    float64\n",
      " 5   Revenue generated        100 non-null    float64\n",
      " 6   Customer demographics    100 non-null    object \n",
      " 7   Stock levels             100 non-null    float64\n",
      " 8   Lead times               100 non-null    float64\n",
      " 9   Order quantities         100 non-null    float64\n",
      " 10  Shipping times           100 non-null    float64\n",
      " 11  Shipping carriers        100 non-null    object \n",
      " 12  Shipping costs           100 non-null    float64\n",
      " 13  Supplier name            100 non-null    object \n",
      " 14  Location                 100 non-null    object \n",
      " 15  Lead time                100 non-null    float64\n",
      " 16  Production volumes       100 non-null    float64\n",
      " 17  Manufacturing lead time  100 non-null    float64\n",
      " 18  Manufacturing costs      100 non-null    float64\n",
      " 19  Inspection results       100 non-null    object \n",
      " 20  Defect rates             100 non-null    float64\n",
      " 21  Transportation modes     100 non-null    object \n",
      " 22  Routes                   100 non-null    object \n",
      " 23  Costs                    100 non-null    float64\n",
      "dtypes: float64(15), object(9)\n",
      "memory usage: 18.9+ KB\n"
     ]
    }
   ],
   "source": [
    "# Importiamo le librerie\n",
    "import pandas as pd\n",
    "import numpy as np\n",
    "\n",
    "# Carichiamo il dataset\n",
    "file_path = \"supply_chain_data.csv\"  # Adjust the path if necessary\n",
    "data = pd.read_csv(file_path)\n",
    "\n",
    "# Riempiamo i valori mancanti nelle colonne numeriche con la mediana\n",
    "for col in numeric_cols:\n",
    "    data[col] = data[col].fillna(data[col].median())\n",
    "\n",
    "# Riempiamo i valori mancanti nelle colonne categoriali con il valore più frequente\n",
    "for col in categorical_cols:\n",
    "    data[col] = data[col].fillna(data[col].mode()[0])\n",
    "    \n",
    "# Riempiamo i valori mancanti nelle colonne categoriali con il valore più frequente\n",
    "for col in categorical_cols:\n",
    "    data[col] = data[col].fillna(data[col].mode()[0])\n",
    "\n",
    "# Convertiamo eventuali colonne numeriche rimanenti da rappresentazioni in formato stringa (come \"5M\") se necessario\n",
    "def convert_millions(value):\n",
    "    if isinstance(value, str) and \"M\" in value:\n",
    "        return float(value.replace(\"M\", \"\")) * 1_000_000\n",
    "    try:\n",
    "        return float(value)\n",
    "    except ValueError:\n",
    "        return None\n",
    "\n",
    "# Applichiamo la funzione di conversione alle colonne numeriche con possibile rappresentazione come stringa\n",
    "for col in numeric_cols:\n",
    "    #data[col] = data[col].apply(convert_millions) to update \n",
    "    data[col] = data[col].apply(convert_millions)\n",
    "\n",
    "# Mostriamo il dataset ripulito\n",
    "data.info()\n"
   ]
  },
  {
   "cell_type": "code",
   "execution_count": 78,
   "id": "e64e6ba2-a73b-4750-b28d-9868aa32e805",
   "metadata": {},
   "outputs": [
    {
     "name": "stdout",
     "output_type": "stream",
     "text": [
      "  Product type   SKU      Price  Availability  Number of products sold  \\\n",
      "0     haircare  SKU0  69.808006            55                      802   \n",
      "1     skincare  SKU1  14.843523            95                      736   \n",
      "2     haircare  SKU2  11.319683            34                        8   \n",
      "3     skincare  SKU3  61.163343            68                       83   \n",
      "4     skincare  SKU4   4.805496            26                      871   \n",
      "\n",
      "   Revenue generated Customer demographics  Stock levels  Lead times  \\\n",
      "0        8661.996792            Non-binary            58           7   \n",
      "1        7460.900065                Female            53          30   \n",
      "2        9577.749626               Unknown             1          10   \n",
      "3        7766.836426            Non-binary            23          13   \n",
      "4        2686.505152            Non-binary             5           3   \n",
      "\n",
      "   Order quantities  ...  Location Lead time  Production volumes  \\\n",
      "0                96  ...    Mumbai        29                 215   \n",
      "1                37  ...    Mumbai        23                 517   \n",
      "2                88  ...    Mumbai        12                 971   \n",
      "3                59  ...   Kolkata        24                 937   \n",
      "4                56  ...     Delhi         5                 414   \n",
      "\n",
      "  Manufacturing lead time Manufacturing costs  Inspection results  \\\n",
      "0                      29           46.279879             Pending   \n",
      "1                      30           33.616769             Pending   \n",
      "2                      27           30.688019             Pending   \n",
      "3                      18           35.624741                Fail   \n",
      "4                       3           92.065161                Fail   \n",
      "\n",
      "   Defect rates  Transportation modes   Routes       Costs  \n",
      "0      0.226410                  Road  Route B  187.752075  \n",
      "1      4.854068                  Road  Route B  503.065579  \n",
      "2      4.580593                   Air  Route C  141.920282  \n",
      "3      4.746649                  Rail  Route A  254.776159  \n",
      "4      3.145580                   Air  Route A  923.440632  \n",
      "\n",
      "[5 rows x 24 columns]\n",
      "<class 'pandas.core.frame.DataFrame'>\n",
      "RangeIndex: 100 entries, 0 to 99\n",
      "Data columns (total 24 columns):\n",
      " #   Column                   Non-Null Count  Dtype  \n",
      "---  ------                   --------------  -----  \n",
      " 0   Product type             100 non-null    object \n",
      " 1   SKU                      100 non-null    object \n",
      " 2   Price                    100 non-null    float64\n",
      " 3   Availability             100 non-null    int64  \n",
      " 4   Number of products sold  100 non-null    int64  \n",
      " 5   Revenue generated        100 non-null    float64\n",
      " 6   Customer demographics    100 non-null    object \n",
      " 7   Stock levels             100 non-null    int64  \n",
      " 8   Lead times               100 non-null    int64  \n",
      " 9   Order quantities         100 non-null    int64  \n",
      " 10  Shipping times           100 non-null    int64  \n",
      " 11  Shipping carriers        100 non-null    object \n",
      " 12  Shipping costs           100 non-null    float64\n",
      " 13  Supplier name            100 non-null    object \n",
      " 14  Location                 100 non-null    object \n",
      " 15  Lead time                100 non-null    int64  \n",
      " 16  Production volumes       100 non-null    int64  \n",
      " 17  Manufacturing lead time  100 non-null    int64  \n",
      " 18  Manufacturing costs      100 non-null    float64\n",
      " 19  Inspection results       100 non-null    object \n",
      " 20  Defect rates             100 non-null    float64\n",
      " 21  Transportation modes     100 non-null    object \n",
      " 22  Routes                   100 non-null    object \n",
      " 23  Costs                    100 non-null    float64\n",
      "dtypes: float64(6), int64(9), object(9)\n",
      "memory usage: 18.9+ KB\n",
      "None\n"
     ]
    }
   ],
   "source": [
    "# Importiamo le ulteriori librerie necesserie\n",
    "\n",
    "import os \n",
    "\n",
    "import pandas as pd\n",
    "import numpy as np\n",
    "import matplotlib.pyplot as plt\n",
    "import seaborn as sns\n",
    "from mpl_toolkits.mplot3d import Axes3D\n",
    "from sklearn.cluster import KMeans\n",
    "from sklearn.preprocessing import StandardScaler\n",
    "from sklearn.decomposition import PCA\n",
    "\n",
    "os.environ[\"OMP_NUM_THREADS\"] = \"1\"\n",
    "\n",
    "# Configuriamo il tutto per il plotting\n",
    "%matplotlib inline\n",
    "sns.set(style=\"whitegrid\")\n",
    "\n",
    "# Carichiamo il dataset\n",
    "file_path = \"supply_chain_data.csv\"  # Assicuriamoci che il percorso sia corretto\n",
    "data = pd.read_csv(file_path)\n",
    "\n",
    "# Mostriamo le prime righe del dataset e un riassunto per capirne la struttura\n",
    "print(data.head())\n",
    "print(data.info())"
   ]
  },
  {
   "cell_type": "code",
   "execution_count": 79,
   "id": "4be89e20-ad42-4ee0-9d68-21b50d7ebe71",
   "metadata": {},
   "outputs": [
    {
     "name": "stdout",
     "output_type": "stream",
     "text": [
      "Missing values per column:\n",
      " Product type               0\n",
      "SKU                        0\n",
      "Price                      0\n",
      "Availability               0\n",
      "Number of products sold    0\n",
      "Revenue generated          0\n",
      "Customer demographics      0\n",
      "Stock levels               0\n",
      "Lead times                 0\n",
      "Order quantities           0\n",
      "Shipping times             0\n",
      "Shipping carriers          0\n",
      "Shipping costs             0\n",
      "Supplier name              0\n",
      "Location                   0\n",
      "Lead time                  0\n",
      "Production volumes         0\n",
      "Manufacturing lead time    0\n",
      "Manufacturing costs        0\n",
      "Inspection results         0\n",
      "Defect rates               0\n",
      "Transportation modes       0\n",
      "Routes                     0\n",
      "Costs                      0\n",
      "dtype: int64\n",
      "<class 'pandas.core.frame.DataFrame'>\n",
      "RangeIndex: 100 entries, 0 to 99\n",
      "Data columns (total 24 columns):\n",
      " #   Column                   Non-Null Count  Dtype  \n",
      "---  ------                   --------------  -----  \n",
      " 0   Product type             100 non-null    object \n",
      " 1   SKU                      100 non-null    object \n",
      " 2   Price                    100 non-null    float64\n",
      " 3   Availability             100 non-null    float64\n",
      " 4   Number of products sold  100 non-null    float64\n",
      " 5   Revenue generated        100 non-null    float64\n",
      " 6   Customer demographics    100 non-null    object \n",
      " 7   Stock levels             100 non-null    float64\n",
      " 8   Lead times               100 non-null    float64\n",
      " 9   Order quantities         100 non-null    float64\n",
      " 10  Shipping times           100 non-null    float64\n",
      " 11  Shipping carriers        100 non-null    object \n",
      " 12  Shipping costs           100 non-null    float64\n",
      " 13  Supplier name            100 non-null    object \n",
      " 14  Location                 100 non-null    object \n",
      " 15  Lead time                100 non-null    float64\n",
      " 16  Production volumes       100 non-null    float64\n",
      " 17  Manufacturing lead time  100 non-null    float64\n",
      " 18  Manufacturing costs      100 non-null    float64\n",
      " 19  Inspection results       100 non-null    object \n",
      " 20  Defect rates             100 non-null    float64\n",
      " 21  Transportation modes     100 non-null    object \n",
      " 22  Routes                   100 non-null    object \n",
      " 23  Costs                    100 non-null    float64\n",
      "dtypes: float64(15), object(9)\n",
      "memory usage: 18.9+ KB\n",
      "None\n"
     ]
    }
   ],
   "source": [
    "# Controlliamo i valori mancanti\n",
    "print(\"Missing values per column:\\n\", data.isnull().sum())\n",
    "\n",
    "# Riempimento dei valori mancanti: colonne numeriche con la mediana e colonne categoriali con la moda\n",
    "numeric_cols = data.select_dtypes(include=[np.number]).columns\n",
    "categorical_cols = data.select_dtypes(exclude=[np.number]).columns\n",
    "\n",
    "# Con mediana\n",
    "for col in numeric_cols:\n",
    "    data[col] = data[col].fillna(data[col].median())\n",
    "\n",
    "# Con moda\n",
    "for col in categorical_cols:\n",
    "    data[col] = data[col].fillna(data[col].mode()[0])\n",
    "\n",
    "# Convertiamo le stringhe in valori numerici dove possibile\n",
    "def convert_millions(value):\n",
    "    if isinstance(value, str) and \"M\" in value:\n",
    "        return float(value.replace(\"M\", \"\")) * 1_000_000\n",
    "    try:\n",
    "        return float(value)\n",
    "    except ValueError:\n",
    "        return None\n",
    "\n",
    "# Applichiamo la conversione\n",
    "for col in numeric_cols:\n",
    "    data[col] = data[col].apply(convert_millions)\n",
    "\n",
    "# Verichiamo i dati dopo la puliza\n",
    "print(data.info())"
   ]
  },
  {
   "cell_type": "code",
   "execution_count": 80,
   "id": "1f251d0a-d118-4ee2-a185-5e56b2dc3fb6",
   "metadata": {},
   "outputs": [
    {
     "data": {
      "image/png": "[encoded data removed]",
      "text/plain": [
       "<Figure size 1000x600 with 1 Axes>"
      ]
     },
     "metadata": {},
     "output_type": "display_data"
    }
   ],
   "source": [
    "# Distribuzione dei lead times\n",
    "plt.figure(figsize=(10, 6))\n",
    "sns.histplot(data['Lead times'], bins=30, kde=True)\n",
    "plt.title('Distribuzione dei Lead Times')\n",
    "plt.xlabel('Lead Times (giorni)')\n",
    "plt.ylabel('Frequenza')\n",
    "plt.show()"
   ]
  },
  {
   "cell_type": "code",
   "execution_count": 81,
   "id": "cad486e9-1744-4746-be05-01c1359c5f3a",
   "metadata": {},
   "outputs": [
    {
     "data": {
      "image/png": "[encoded data removed]",
      "text/plain": [
       "<Figure size 1200x600 with 1 Axes>"
      ]
     },
     "metadata": {},
     "output_type": "display_data"
    }
   ],
   "source": [
    "# Distribuzione dei costi per fornitore\n",
    "plt.figure(figsize=(12, 6))\n",
    "sns.boxplot(x='Supplier name', y='Costs', data=data)\n",
    "plt.xticks(rotation=45)\n",
    "plt.title('Distribuzione dei Costi per Fornitore')\n",
    "plt.xlabel('Fornitore')\n",
    "plt.ylabel('Costo')\n",
    "plt.show()"
   ]
  },
  {
   "cell_type": "code",
   "execution_count": 99,
   "id": "f7f962d9-e0c0-4369-bf05-53fc6a0b361e",
   "metadata": {},
   "outputs": [
    {
     "data": {
      "application/vnd.plotly.v1+json": {
       "config": {
        "plotlyServerURL": "https://plot.ly"
       },
       "data": [
        {
         "hovertemplate": "Supplier name=Supplier 3<br>Lead Times (giorni)=%{x}<br>Costs (€)=%{y}<br>Number of Products Sold=%{z}<extra></extra>",
         "legendgroup": "Supplier 3",
         "marker": {
          "color": "#636efa",
          "symbol": "circle"
         },
         "mode": "markers",
         "name": "Supplier 3",
         "scene": "scene",
         "showlegend": true,
         "type": "scatter3d",
         "x": [
          7,
          30,
          15,
          17,
          13,
          8,
          29,
          5,
          19,
          25,
          14,
          6,
          7,
          18,
          2
         ],
         "y": [
          187.75207545920392,
          503.0655791496692,
          134.36909686103172,
          609.3792066184267,
          761.1739095148776,
          183.9329680435944,
          380.4359371119643,
          110.36433523136472,
          687.2861778664173,
          351.50421933503867,
          787.7798504943445,
          276.77833594679885,
          879.3592177349243,
          990.0784725058112,
          188.74214114905695
         ],
         "z": [
          802,
          736,
          65,
          168,
          781,
          963,
          859,
          896,
          246,
          198,
          872,
          774,
          79,
          320,
          324
         ]
        },
        {
         "hovertemplate": "Supplier name=Supplier 1<br>Lead Times (giorni)=%{x}<br>Costs (€)=%{y}<br>Number of Products Sold=%{z}<extra></extra>",
         "legendgroup": "Supplier 1",
         "marker": {
          "color": "#EF553B",
          "symbol": "circle"
         },
         "mode": "markers",
         "name": "Supplier 1",
         "scene": "scene",
         "showlegend": true,
         "type": "scatter3d",
         "x": [
          10,
          3,
          29,
          8,
          5,
          17,
          12,
          15,
          5,
          26,
          27,
          20,
          15,
          11,
          25,
          22,
          23,
          16,
          27,
          9,
          12,
          29,
          20,
          28,
          24,
          14,
          1
         ],
         "y": [
          141.92028177151906,
          923.4406317119222,
          929.2352899608896,
          127.8618000016254,
          865.5257797712403,
          670.9343907924103,
          493.87121531620585,
          123.43702751182708,
          764.9353759407081,
          510.3580004335235,
          553.4204712303558,
          529.8087239806919,
          581.6023550505868,
          602.8984988383834,
          750.7378406682709,
          814.0699965821875,
          832.2108087060217,
          312.5742736100933,
          771.2250846811575,
          169.2718013847869,
          183.272898748711,
          677.9445698461833,
          873.1296480176514,
          852.56809891985,
          682.9710182260933,
          264.2548898358665,
          517.4999739290605
         ],
         "z": [
          8,
          871,
          562,
          469,
          280,
          126,
          320,
          394,
          253,
          602,
          449,
          933,
          910,
          820,
          242,
          622,
          93,
          484,
          134,
          513,
          32,
          478,
          106,
          359,
          663,
          223,
          134
         ]
        },
        {
         "hovertemplate": "Supplier name=Supplier 5<br>Lead Times (giorni)=%{x}<br>Costs (€)=%{y}<br>Number of Products Sold=%{z}<extra></extra>",
         "legendgroup": "Supplier 5",
         "marker": {
          "color": "#00cc96",
          "symbol": "circle"
         },
         "mode": "markers",
         "name": "Supplier 5",
         "scene": "scene",
         "showlegend": true,
         "type": "scatter3d",
         "x": [
          13,
          13,
          8,
          25,
          5,
          9,
          17,
          1,
          27,
          29,
          24,
          4,
          24,
          17,
          4,
          26,
          18,
          1
         ],
         "y": [
          254.77615921928663,
          806.103177702923,
          547.2410051609685,
          523.360914720158,
          196.32944611241268,
          762.4591821556837,
          371.255295519871,
          339.6728699486061,
          635.6571205019919,
          716.0441197593407,
          336.8901685199779,
          694.9823175794459,
          555.8591036717435,
          393.8433485784279,
          323.59220343132216,
          465.457005963688,
          842.6868300046415,
          882.1988635470415
         ],
         "z": [
          83,
          996,
          249,
          601,
          391,
          352,
          616,
          705,
          155,
          598,
          99,
          154,
          457,
          704,
          946,
          618,
          25,
          913
         ]
        },
        {
         "hovertemplate": "Supplier name=Supplier 4<br>Lead Times (giorni)=%{x}<br>Costs (€)=%{y}<br>Number of Products Sold=%{z}<extra></extra>",
         "legendgroup": "Supplier 4",
         "marker": {
          "color": "#ab63fa",
          "symbol": "circle"
         },
         "mode": "markers",
         "name": "Supplier 4",
         "scene": "scene",
         "showlegend": true,
         "type": "scatter3d",
         "x": [
          27,
          17,
          10,
          30,
          11,
          1,
          11,
          26,
          19,
          27,
          23,
          1,
          25,
          6,
          22,
          17,
          14,
          19
         ],
         "y": [
          235.4612367355375,
          802.0563118175586,
          505.55713422546415,
          402.9687890737706,
          477.3076310909034,
          205.57199582694707,
          458.535945739209,
          880.080988247161,
          275.5243711313098,
          430.1690969751365,
          164.36652824341942,
          207.6632062085756,
          866.4728001296578,
          341.55265678322337,
          996.7783149506238,
          823.5238458881558,
          778.8642413766479,
          540.1324228679678
         ],
         "z": [
          147,
          426,
          150,
          336,
          187,
          884,
          142,
          327,
          556,
          380,
          117,
          511,
          375,
          904,
          916,
          114,
          672,
          62
         ]
        },
        {
         "hovertemplate": "Supplier name=Supplier 2<br>Lead Times (giorni)=%{x}<br>Costs (€)=%{y}<br>Number of Products Sold=%{z}<extra></extra>",
         "legendgroup": "Supplier 2",
         "marker": {
          "color": "#FFA15A",
          "symbol": "circle"
         },
         "mode": "markers",
         "name": "Supplier 2",
         "scene": "scene",
         "showlegend": true,
         "type": "scatter3d",
         "x": [
          27,
          23,
          10,
          26,
          16,
          23,
          29,
          19,
          7,
          16,
          23,
          11,
          18,
          2,
          8,
          2,
          1,
          19,
          18,
          25,
          26,
          8
         ],
         "y": [
          995.9294614986416,
          126.72303340940724,
          593.4802587206518,
          758.7247726029383,
          617.8669164583772,
          403.8089742481805,
          653.6729945520332,
          610.4532696192277,
          495.305697028474,
          768.65191395437,
          496.24865029194046,
          323.01292795247883,
          482.1912386025281,
          320.8465157591116,
          299.7063031181032,
          405.1670678888559,
          997.4134501331946,
          589.9785556280407,
          103.91624796070496,
          230.0927825367629,
          846.6652569866948,
          210.74300896424612
         ],
         "z": [
          980,
          960,
          620,
          209,
          353,
          963,
          176,
          919,
          24,
          29,
          633,
          701,
          227,
          270,
          163,
          637,
          241,
          336,
          737,
          276,
          987,
          627
         ]
        }
       ],
       "layout": {
        "height": 800,
        "legend": {
         "title": {
          "text": "Supplier name"
         },
         "tracegroupgap": 0
        },
        "scene": {
         "aspectmode": "auto",
         "aspectratio": {
          "x": 1,
          "y": 1,
          "z": 1
         },
         "camera": {
          "center": {
           "x": 0,
           "y": 0,
           "z": 0
          },
          "eye": {
           "x": 3.22293315443209,
           "y": 0.42884835629493073,
           "z": 0.994610747810844
          },
          "projection": {
           "type": "perspective"
          },
          "up": {
           "x": 0,
           "y": 0,
           "z": 1
          }
         },
         "domain": {
          "x": [
           0,
           1
          ],
          "y": [
           0,
           1
          ]
         },
         "xaxis": {
          "title": {
           "text": "Lead Times (giorni)"
          },
          "type": "linear"
         },
         "yaxis": {
          "title": {
           "text": "Costs (€)"
          },
          "type": "linear"
         },
         "zaxis": {
          "title": {
           "text": "Number of Products Sold"
          },
          "type": "linear"
         }
        },
        "template": {
         "data": {
          "bar": [
           {
            "error_x": {
             "color": "#2a3f5f"
            },
            "error_y": {
             "color": "#2a3f5f"
            },
            "marker": {
             "line": {
              "color": "#E5ECF6",
              "width": 0.5
             },
             "pattern": {
              "fillmode": "overlay",
              "size": 10,
              "solidity": 0.2
             }
            },
            "type": "bar"
           }
          ],
          "barpolar": [
           {
            "marker": {
             "line": {
              "color": "#E5ECF6",
              "width": 0.5
             },
             "pattern": {
              "fillmode": "overlay",
              "size": 10,
              "solidity": 0.2
             }
            },
            "type": "barpolar"
           }
          ],
          "carpet": [
           {
            "aaxis": {
             "endlinecolor": "#2a3f5f",
             "gridcolor": "white",
             "linecolor": "white",
             "minorgridcolor": "white",
             "startlinecolor": "#2a3f5f"
            },
            "baxis": {
             "endlinecolor": "#2a3f5f",
             "gridcolor": "white",
             "linecolor": "white",
             "minorgridcolor": "white",
             "startlinecolor": "#2a3f5f"
            },
            "type": "carpet"
           }
          ],
          "choropleth": [
           {
            "colorbar": {
             "outlinewidth": 0,
             "ticks": ""
            },
            "type": "choropleth"
           }
          ],
          "contour": [
           {
            "colorbar": {
             "outlinewidth": 0,
             "ticks": ""
            },
            "colorscale": [
             [
              0,
              "#0d0887"
             ],
             [
              0.1111111111111111,
              "#46039f"
             ],
             [
              0.2222222222222222,
              "#7201a8"
             ],
             [
              0.3333333333333333,
              "#9c179e"
             ],
             [
              0.4444444444444444,
              "#bd3786"
             ],
             [
              0.5555555555555556,
              "#d8576b"
             ],
             [
              0.6666666666666666,
              "#ed7953"
             ],
             [
              0.7777777777777778,
              "#fb9f3a"
             ],
             [
              0.8888888888888888,
              "#fdca26"
             ],
             [
              1,
              "#f0f921"
             ]
            ],
            "type": "contour"
           }
          ],
          "contourcarpet": [
           {
            "colorbar": {
             "outlinewidth": 0,
             "ticks": ""
            },
            "type": "contourcarpet"
           }
          ],
          "heatmap": [
           {
            "colorbar": {
             "outlinewidth": 0,
             "ticks": ""
            },
            "colorscale": [
             [
              0,
              "#0d0887"
             ],
             [
              0.1111111111111111,
              "#46039f"
             ],
             [
              0.2222222222222222,
              "#7201a8"
             ],
             [
              0.3333333333333333,
              "#9c179e"
             ],
             [
              0.4444444444444444,
              "#bd3786"
             ],
             [
              0.5555555555555556,
              "#d8576b"
             ],
             [
              0.6666666666666666,
              "#ed7953"
             ],
             [
              0.7777777777777778,
              "#fb9f3a"
             ],
             [
              0.8888888888888888,
              "#fdca26"
             ],
             [
              1,
              "#f0f921"
             ]
            ],
            "type": "heatmap"
           }
          ],
          "heatmapgl": [
           {
            "colorbar": {
             "outlinewidth": 0,
             "ticks": ""
            },
            "colorscale": [
             [
              0,
              "#0d0887"
             ],
             [
              0.1111111111111111,
              "#46039f"
             ],
             [
              0.2222222222222222,
              "#7201a8"
             ],
             [
              0.3333333333333333,
              "#9c179e"
             ],
             [
              0.4444444444444444,
              "#bd3786"
             ],
             [
              0.5555555555555556,
              "#d8576b"
             ],
             [
              0.6666666666666666,
              "#ed7953"
             ],
             [
              0.7777777777777778,
              "#fb9f3a"
             ],
             [
              0.8888888888888888,
              "#fdca26"
             ],
             [
              1,
              "#f0f921"
             ]
            ],
            "type": "heatmapgl"
           }
          ],
          "histogram": [
           {
            "marker": {
             "pattern": {
              "fillmode": "overlay",
              "size": 10,
              "solidity": 0.2
             }
            },
            "type": "histogram"
           }
          ],
          "histogram2d": [
           {
            "colorbar": {
             "outlinewidth": 0,
             "ticks": ""
            },
            "colorscale": [
             [
              0,
              "#0d0887"
             ],
             [
              0.1111111111111111,
              "#46039f"
             ],
             [
              0.2222222222222222,
              "#7201a8"
             ],
             [
              0.3333333333333333,
              "#9c179e"
             ],
             [
              0.4444444444444444,
              "#bd3786"
             ],
             [
              0.5555555555555556,
              "#d8576b"
             ],
             [
              0.6666666666666666,
              "#ed7953"
             ],
             [
              0.7777777777777778,
              "#fb9f3a"
             ],
             [
              0.8888888888888888,
              "#fdca26"
             ],
             [
              1,
              "#f0f921"
             ]
            ],
            "type": "histogram2d"
           }
          ],
          "histogram2dcontour": [
           {
            "colorbar": {
             "outlinewidth": 0,
             "ticks": ""
            },
            "colorscale": [
             [
              0,
              "#0d0887"
             ],
             [
              0.1111111111111111,
              "#46039f"
             ],
             [
              0.2222222222222222,
              "#7201a8"
             ],
             [
              0.3333333333333333,
              "#9c179e"
             ],
             [
              0.4444444444444444,
              "#bd3786"
             ],
             [
              0.5555555555555556,
              "#d8576b"
             ],
             [
              0.6666666666666666,
              "#ed7953"
             ],
             [
              0.7777777777777778,
              "#fb9f3a"
             ],
             [
              0.8888888888888888,
              "#fdca26"
             ],
             [
              1,
              "#f0f921"
             ]
            ],
            "type": "histogram2dcontour"
           }
          ],
          "mesh3d": [
           {
            "colorbar": {
             "outlinewidth": 0,
             "ticks": ""
            },
            "type": "mesh3d"
           }
          ],
          "parcoords": [
           {
            "line": {
             "colorbar": {
              "outlinewidth": 0,
              "ticks": ""
             }
            },
            "type": "parcoords"
           }
          ],
          "pie": [
           {
            "automargin": true,
            "type": "pie"
           }
          ],
          "scatter": [
           {
            "fillpattern": {
             "fillmode": "overlay",
             "size": 10,
             "solidity": 0.2
            },
            "type": "scatter"
           }
          ],
          "scatter3d": [
           {
            "line": {
             "colorbar": {
              "outlinewidth": 0,
              "ticks": ""
             }
            },
            "marker": {
             "colorbar": {
              "outlinewidth": 0,
              "ticks": ""
             }
            },
            "type": "scatter3d"
           }
          ],
          "scattercarpet": [
           {
            "marker": {
             "colorbar": {
              "outlinewidth": 0,
              "ticks": ""
             }
            },
            "type": "scattercarpet"
           }
          ],
          "scattergeo": [
           {
            "marker": {
             "colorbar": {
              "outlinewidth": 0,
              "ticks": ""
             }
            },
            "type": "scattergeo"
           }
          ],
          "scattergl": [
           {
            "marker": {
             "colorbar": {
              "outlinewidth": 0,
              "ticks": ""
             }
            },
            "type": "scattergl"
           }
          ],
          "scattermapbox": [
           {
            "marker": {
             "colorbar": {
              "outlinewidth": 0,
              "ticks": ""
             }
            },
            "type": "scattermapbox"
           }
          ],
          "scatterpolar": [
           {
            "marker": {
             "colorbar": {
              "outlinewidth": 0,
              "ticks": ""
             }
            },
            "type": "scatterpolar"
           }
          ],
          "scatterpolargl": [
           {
            "marker": {
             "colorbar": {
              "outlinewidth": 0,
              "ticks": ""
             }
            },
            "type": "scatterpolargl"
           }
          ],
          "scatterternary": [
           {
            "marker": {
             "colorbar": {
              "outlinewidth": 0,
              "ticks": ""
             }
            },
            "type": "scatterternary"
           }
          ],
          "surface": [
           {
            "colorbar": {
             "outlinewidth": 0,
             "ticks": ""
            },
            "colorscale": [
             [
              0,
              "#0d0887"
             ],
             [
              0.1111111111111111,
              "#46039f"
             ],
             [
              0.2222222222222222,
              "#7201a8"
             ],
             [
              0.3333333333333333,
              "#9c179e"
             ],
             [
              0.4444444444444444,
              "#bd3786"
             ],
             [
              0.5555555555555556,
              "#d8576b"
             ],
             [
              0.6666666666666666,
              "#ed7953"
             ],
             [
              0.7777777777777778,
              "#fb9f3a"
             ],
             [
              0.8888888888888888,
              "#fdca26"
             ],
             [
              1,
              "#f0f921"
             ]
            ],
            "type": "surface"
           }
          ],
          "table": [
           {
            "cells": {
             "fill": {
              "color": "#EBF0F8"
             },
             "line": {
              "color": "white"
             }
            },
            "header": {
             "fill": {
              "color": "#C8D4E3"
             },
             "line": {
              "color": "white"
             }
            },
            "type": "table"
           }
          ]
         },
         "layout": {
          "annotationdefaults": {
           "arrowcolor": "#2a3f5f",
           "arrowhead": 0,
           "arrowwidth": 1
          },
          "autotypenumbers": "strict",
          "coloraxis": {
           "colorbar": {
            "outlinewidth": 0,
            "ticks": ""
           }
          },
          "colorscale": {
           "diverging": [
            [
             0,
             "#8e0152"
            ],
            [
             0.1,
             "#c51b7d"
            ],
            [
             0.2,
             "#de77ae"
            ],
            [
             0.3,
             "#f1b6da"
            ],
            [
             0.4,
             "#fde0ef"
            ],
            [
             0.5,
             "#f7f7f7"
            ],
            [
             0.6,
             "#e6f5d0"
            ],
            [
             0.7,
             "#b8e186"
            ],
            [
             0.8,
             "#7fbc41"
            ],
            [
             0.9,
             "#4d9221"
            ],
            [
             1,
             "#276419"
            ]
           ],
           "sequential": [
            [
             0,
             "#0d0887"
            ],
            [
             0.1111111111111111,
             "#46039f"
            ],
            [
             0.2222222222222222,
             "#7201a8"
            ],
            [
             0.3333333333333333,
             "#9c179e"
            ],
            [
             0.4444444444444444,
             "#bd3786"
            ],
            [
             0.5555555555555556,
             "#d8576b"
            ],
            [
             0.6666666666666666,
             "#ed7953"
            ],
            [
             0.7777777777777778,
             "#fb9f3a"
            ],
            [
             0.8888888888888888,
             "#fdca26"
            ],
            [
             1,
             "#f0f921"
            ]
           ],
           "sequentialminus": [
            [
             0,
             "#0d0887"
            ],
            [
             0.1111111111111111,
             "#46039f"
            ],
            [
             0.2222222222222222,
             "#7201a8"
            ],
            [
             0.3333333333333333,
             "#9c179e"
            ],
            [
             0.4444444444444444,
             "#bd3786"
            ],
            [
             0.5555555555555556,
             "#d8576b"
            ],
            [
             0.6666666666666666,
             "#ed7953"
            ],
            [
             0.7777777777777778,
             "#fb9f3a"
            ],
            [
             0.8888888888888888,
             "#fdca26"
            ],
            [
             1,
             "#f0f921"
            ]
           ]
          },
          "colorway": [
           "#636efa",
           "#EF553B",
           "#00cc96",
           "#ab63fa",
           "#FFA15A",
           "#19d3f3",
           "#FF6692",
           "#B6E880",
           "#FF97FF",
           "#FECB52"
          ],
          "font": {
           "color": "#2a3f5f"
          },
          "geo": {
           "bgcolor": "white",
           "lakecolor": "white",
           "landcolor": "#E5ECF6",
           "showlakes": true,
           "showland": true,
           "subunitcolor": "white"
          },
          "hoverlabel": {
           "align": "left"
          },
          "hovermode": "closest",
          "mapbox": {
           "style": "light"
          },
          "paper_bgcolor": "white",
          "plot_bgcolor": "#E5ECF6",
          "polar": {
           "angularaxis": {
            "gridcolor": "white",
            "linecolor": "white",
            "ticks": ""
           },
           "bgcolor": "#E5ECF6",
           "radialaxis": {
            "gridcolor": "white",
            "linecolor": "white",
            "ticks": ""
           }
          },
          "scene": {
           "xaxis": {
            "backgroundcolor": "#E5ECF6",
            "gridcolor": "white",
            "gridwidth": 2,
            "linecolor": "white",
            "showbackground": true,
            "ticks": "",
            "zerolinecolor": "white"
           },
           "yaxis": {
            "backgroundcolor": "#E5ECF6",
            "gridcolor": "white",
            "gridwidth": 2,
            "linecolor": "white",
            "showbackground": true,
            "ticks": "",
            "zerolinecolor": "white"
           },
           "zaxis": {
            "backgroundcolor": "#E5ECF6",
            "gridcolor": "white",
            "gridwidth": 2,
            "linecolor": "white",
            "showbackground": true,
            "ticks": "",
            "zerolinecolor": "white"
           }
          },
          "shapedefaults": {
           "line": {
            "color": "#2a3f5f"
           }
          },
          "ternary": {
           "aaxis": {
            "gridcolor": "white",
            "linecolor": "white",
            "ticks": ""
           },
           "baxis": {
            "gridcolor": "white",
            "linecolor": "white",
            "ticks": ""
           },
           "bgcolor": "#E5ECF6",
           "caxis": {
            "gridcolor": "white",
            "linecolor": "white",
            "ticks": ""
           }
          },
          "title": {
           "x": 0.05
          },
          "xaxis": {
           "automargin": true,
           "gridcolor": "white",
           "linecolor": "white",
           "ticks": "",
           "title": {
            "standoff": 15
           },
           "zerolinecolor": "white",
           "zerolinewidth": 2
          },
          "yaxis": {
           "automargin": true,
           "gridcolor": "white",
           "linecolor": "white",
           "ticks": "",
           "title": {
            "standoff": 15
           },
           "zerolinecolor": "white",
           "zerolinewidth": 2
          }
         }
        },
        "title": {
         "text": "3D Scatter Plot of Lead Times, Costs, and Number of Products Sold"
        },
        "width": 1200
       }
      },
      "image/png": "[encoded data removed]",
      "text/html": [
       "<div>                            <div id=\"ef26fddf-30d9-4ddf-9d5c-9433c3adcf5e\" class=\"plotly-graph-div\" style=\"height:800px; width:1200px;\"></div>            <script type=\"text/javascript\">                require([\"plotly\"], function(Plotly) {                    window.PLOTLYENV=window.PLOTLYENV || {};                                    if (document.getElementById(\"ef26fddf-30d9-4ddf-9d5c-9433c3adcf5e\")) {                    Plotly.newPlot(                        \"ef26fddf-30d9-4ddf-9d5c-9433c3adcf5e\",                        [{\"hovertemplate\":\"Supplier name=Supplier 3\\u003cbr\\u003eLead Times (giorni)=%{x}\\u003cbr\\u003eCosts (\\u20ac)=%{y}\\u003cbr\\u003eNumber of Products Sold=%{z}\\u003cextra\\u003e\\u003c\\u002fextra\\u003e\",\"legendgroup\":\"Supplier 3\",\"marker\":{\"color\":\"#636efa\",\"symbol\":\"circle\"},\"mode\":\"markers\",\"name\":\"Supplier 3\",\"scene\":\"scene\",\"showlegend\":true,\"x\":[7,30,15,17,13,8,29,5,19,25,14,6,7,18,2],\"y\":[187.75207545920392,503.0655791496692,134.36909686103172,609.3792066184267,761.1739095148776,183.9329680435944,380.4359371119643,110.36433523136472,687.2861778664173,351.50421933503867,787.7798504943445,276.77833594679885,879.3592177349243,990.0784725058112,188.74214114905695],\"z\":[802,736,65,168,781,963,859,896,246,198,872,774,79,320,324],\"type\":\"scatter3d\"},{\"hovertemplate\":\"Supplier name=Supplier 1\\u003cbr\\u003eLead Times (giorni)=%{x}\\u003cbr\\u003eCosts (\\u20ac)=%{y}\\u003cbr\\u003eNumber of Products Sold=%{z}\\u003cextra\\u003e\\u003c\\u002fextra\\u003e\",\"legendgroup\":\"Supplier 1\",\"marker\":{\"color\":\"#EF553B\",\"symbol\":\"circle\"},\"mode\":\"markers\",\"name\":\"Supplier 1\",\"scene\":\"scene\",\"showlegend\":true,\"x\":[10,3,29,8,5,17,12,15,5,26,27,20,15,11,25,22,23,16,27,9,12,29,20,28,24,14,1],\"y\":[141.92028177151906,923.4406317119222,929.2352899608896,127.8618000016254,865.5257797712403,670.9343907924103,493.87121531620585,123.43702751182708,764.9353759407081,510.3580004335235,553.4204712303558,529.8087239806919,581.6023550505868,602.8984988383834,750.7378406682709,814.0699965821875,832.2108087060217,312.5742736100933,771.2250846811575,169.2718013847869,183.272898748711,677.9445698461833,873.1296480176514,852.56809891985,682.9710182260933,264.2548898358665,517.4999739290605],\"z\":[8,871,562,469,280,126,320,394,253,602,449,933,910,820,242,622,93,484,134,513,32,478,106,359,663,223,134],\"type\":\"scatter3d\"},{\"hovertemplate\":\"Supplier name=Supplier 5\\u003cbr\\u003eLead Times (giorni)=%{x}\\u003cbr\\u003eCosts (\\u20ac)=%{y}\\u003cbr\\u003eNumber of Products Sold=%{z}\\u003cextra\\u003e\\u003c\\u002fextra\\u003e\",\"legendgroup\":\"Supplier 5\",\"marker\":{\"color\":\"#00cc96\",\"symbol\":\"circle\"},\"mode\":\"markers\",\"name\":\"Supplier 5\",\"scene\":\"scene\",\"showlegend\":true,\"x\":[13,13,8,25,5,9,17,1,27,29,24,4,24,17,4,26,18,1],\"y\":[254.77615921928663,806.103177702923,547.2410051609685,523.360914720158,196.32944611241268,762.4591821556837,371.255295519871,339.6728699486061,635.6571205019919,716.0441197593407,336.8901685199779,694.9823175794459,555.8591036717435,393.8433485784279,323.59220343132216,465.457005963688,842.6868300046415,882.1988635470415],\"z\":[83,996,249,601,391,352,616,705,155,598,99,154,457,704,946,618,25,913],\"type\":\"scatter3d\"},{\"hovertemplate\":\"Supplier name=Supplier 4\\u003cbr\\u003eLead Times (giorni)=%{x}\\u003cbr\\u003eCosts (\\u20ac)=%{y}\\u003cbr\\u003eNumber of Products Sold=%{z}\\u003cextra\\u003e\\u003c\\u002fextra\\u003e\",\"legendgroup\":\"Supplier 4\",\"marker\":{\"color\":\"#ab63fa\",\"symbol\":\"circle\"},\"mode\":\"markers\",\"name\":\"Supplier 4\",\"scene\":\"scene\",\"showlegend\":true,\"x\":[27,17,10,30,11,1,11,26,19,27,23,1,25,6,22,17,14,19],\"y\":[235.4612367355375,802.0563118175586,505.55713422546415,402.9687890737706,477.3076310909034,205.57199582694707,458.535945739209,880.080988247161,275.5243711313098,430.1690969751365,164.36652824341942,207.6632062085756,866.4728001296578,341.55265678322337,996.7783149506238,823.5238458881558,778.8642413766479,540.1324228679678],\"z\":[147,426,150,336,187,884,142,327,556,380,117,511,375,904,916,114,672,62],\"type\":\"scatter3d\"},{\"hovertemplate\":\"Supplier name=Supplier 2\\u003cbr\\u003eLead Times (giorni)=%{x}\\u003cbr\\u003eCosts (\\u20ac)=%{y}\\u003cbr\\u003eNumber of Products Sold=%{z}\\u003cextra\\u003e\\u003c\\u002fextra\\u003e\",\"legendgroup\":\"Supplier 2\",\"marker\":{\"color\":\"#FFA15A\",\"symbol\":\"circle\"},\"mode\":\"markers\",\"name\":\"Supplier 2\",\"scene\":\"scene\",\"showlegend\":true,\"x\":[27,23,10,26,16,23,29,19,7,16,23,11,18,2,8,2,1,19,18,25,26,8],\"y\":[995.9294614986416,126.72303340940724,593.4802587206518,758.7247726029383,617.8669164583772,403.8089742481805,653.6729945520332,610.4532696192277,495.305697028474,768.65191395437,496.24865029194046,323.01292795247883,482.1912386025281,320.8465157591116,299.7063031181032,405.1670678888559,997.4134501331946,589.9785556280407,103.91624796070496,230.0927825367629,846.6652569866948,210.74300896424612],\"z\":[980,960,620,209,353,963,176,919,24,29,633,701,227,270,163,637,241,336,737,276,987,627],\"type\":\"scatter3d\"}],                        {\"template\":{\"data\":{\"histogram2dcontour\":[{\"type\":\"histogram2dcontour\",\"colorbar\":{\"outlinewidth\":0,\"ticks\":\"\"},\"colorscale\":[[0.0,\"#0d0887\"],[0.1111111111111111,\"#46039f\"],[0.2222222222222222,\"#7201a8\"],[0.3333333333333333,\"#9c179e\"],[0.4444444444444444,\"#bd3786\"],[0.5555555555555556,\"#d8576b\"],[0.6666666666666666,\"#ed7953\"],[0.7777777777777778,\"#fb9f3a\"],[0.8888888888888888,\"#fdca26\"],[1.0,\"#f0f921\"]]}],\"choropleth\":[{\"type\":\"choropleth\",\"colorbar\":{\"outlinewidth\":0,\"ticks\":\"\"}}],\"histogram2d\":[{\"type\":\"histogram2d\",\"colorbar\":{\"outlinewidth\":0,\"ticks\":\"\"},\"colorscale\":[[0.0,\"#0d0887\"],[0.1111111111111111,\"#46039f\"],[0.2222222222222222,\"#7201a8\"],[0.3333333333333333,\"#9c179e\"],[0.4444444444444444,\"#bd3786\"],[0.5555555555555556,\"#d8576b\"],[0.6666666666666666,\"#ed7953\"],[0.7777777777777778,\"#fb9f3a\"],[0.8888888888888888,\"#fdca26\"],[1.0,\"#f0f921\"]]}],\"heatmap\":[{\"type\":\"heatmap\",\"colorbar\":{\"outlinewidth\":0,\"ticks\":\"\"},\"colorscale\":[[0.0,\"#0d0887\"],[0.1111111111111111,\"#46039f\"],[0.2222222222222222,\"#7201a8\"],[0.3333333333333333,\"#9c179e\"],[0.4444444444444444,\"#bd3786\"],[0.5555555555555556,\"#d8576b\"],[0.6666666666666666,\"#ed7953\"],[0.7777777777777778,\"#fb9f3a\"],[0.8888888888888888,\"#fdca26\"],[1.0,\"#f0f921\"]]}],\"heatmapgl\":[{\"type\":\"heatmapgl\",\"colorbar\":{\"outlinewidth\":0,\"ticks\":\"\"},\"colorscale\":[[0.0,\"#0d0887\"],[0.1111111111111111,\"#46039f\"],[0.2222222222222222,\"#7201a8\"],[0.3333333333333333,\"#9c179e\"],[0.4444444444444444,\"#bd3786\"],[0.5555555555555556,\"#d8576b\"],[0.6666666666666666,\"#ed7953\"],[0.7777777777777778,\"#fb9f3a\"],[0.8888888888888888,\"#fdca26\"],[1.0,\"#f0f921\"]]}],\"contourcarpet\":[{\"type\":\"contourcarpet\",\"colorbar\":{\"outlinewidth\":0,\"ticks\":\"\"}}],\"contour\":[{\"type\":\"contour\",\"colorbar\":{\"outlinewidth\":0,\"ticks\":\"\"},\"colorscale\":[[0.0,\"#0d0887\"],[0.1111111111111111,\"#46039f\"],[0.2222222222222222,\"#7201a8\"],[0.3333333333333333,\"#9c179e\"],[0.4444444444444444,\"#bd3786\"],[0.5555555555555556,\"#d8576b\"],[0.6666666666666666,\"#ed7953\"],[0.7777777777777778,\"#fb9f3a\"],[0.8888888888888888,\"#fdca26\"],[1.0,\"#f0f921\"]]}],\"surface\":[{\"type\":\"surface\",\"colorbar\":{\"outlinewidth\":0,\"ticks\":\"\"},\"colorscale\":[[0.0,\"#0d0887\"],[0.1111111111111111,\"#46039f\"],[0.2222222222222222,\"#7201a8\"],[0.3333333333333333,\"#9c179e\"],[0.4444444444444444,\"#bd3786\"],[0.5555555555555556,\"#d8576b\"],[0.6666666666666666,\"#ed7953\"],[0.7777777777777778,\"#fb9f3a\"],[0.8888888888888888,\"#fdca26\"],[1.0,\"#f0f921\"]]}],\"mesh3d\":[{\"type\":\"mesh3d\",\"colorbar\":{\"outlinewidth\":0,\"ticks\":\"\"}}],\"scatter\":[{\"fillpattern\":{\"fillmode\":\"overlay\",\"size\":10,\"solidity\":0.2},\"type\":\"scatter\"}],\"parcoords\":[{\"type\":\"parcoords\",\"line\":{\"colorbar\":{\"outlinewidth\":0,\"ticks\":\"\"}}}],\"scatterpolargl\":[{\"type\":\"scatterpolargl\",\"marker\":{\"colorbar\":{\"outlinewidth\":0,\"ticks\":\"\"}}}],\"bar\":[{\"error_x\":{\"color\":\"#2a3f5f\"},\"error_y\":{\"color\":\"#2a3f5f\"},\"marker\":{\"line\":{\"color\":\"#E5ECF6\",\"width\":0.5},\"pattern\":{\"fillmode\":\"overlay\",\"size\":10,\"solidity\":0.2}},\"type\":\"bar\"}],\"scattergeo\":[{\"type\":\"scattergeo\",\"marker\":{\"colorbar\":{\"outlinewidth\":0,\"ticks\":\"\"}}}],\"scatterpolar\":[{\"type\":\"scatterpolar\",\"marker\":{\"colorbar\":{\"outlinewidth\":0,\"ticks\":\"\"}}}],\"histogram\":[{\"marker\":{\"pattern\":{\"fillmode\":\"overlay\",\"size\":10,\"solidity\":0.2}},\"type\":\"histogram\"}],\"scattergl\":[{\"type\":\"scattergl\",\"marker\":{\"colorbar\":{\"outlinewidth\":0,\"ticks\":\"\"}}}],\"scatter3d\":[{\"type\":\"scatter3d\",\"line\":{\"colorbar\":{\"outlinewidth\":0,\"ticks\":\"\"}},\"marker\":{\"colorbar\":{\"outlinewidth\":0,\"ticks\":\"\"}}}],\"scattermapbox\":[{\"type\":\"scattermapbox\",\"marker\":{\"colorbar\":{\"outlinewidth\":0,\"ticks\":\"\"}}}],\"scatterternary\":[{\"type\":\"scatterternary\",\"marker\":{\"colorbar\":{\"outlinewidth\":0,\"ticks\":\"\"}}}],\"scattercarpet\":[{\"type\":\"scattercarpet\",\"marker\":{\"colorbar\":{\"outlinewidth\":0,\"ticks\":\"\"}}}],\"carpet\":[{\"aaxis\":{\"endlinecolor\":\"#2a3f5f\",\"gridcolor\":\"white\",\"linecolor\":\"white\",\"minorgridcolor\":\"white\",\"startlinecolor\":\"#2a3f5f\"},\"baxis\":{\"endlinecolor\":\"#2a3f5f\",\"gridcolor\":\"white\",\"linecolor\":\"white\",\"minorgridcolor\":\"white\",\"startlinecolor\":\"#2a3f5f\"},\"type\":\"carpet\"}],\"table\":[{\"cells\":{\"fill\":{\"color\":\"#EBF0F8\"},\"line\":{\"color\":\"white\"}},\"header\":{\"fill\":{\"color\":\"#C8D4E3\"},\"line\":{\"color\":\"white\"}},\"type\":\"table\"}],\"barpolar\":[{\"marker\":{\"line\":{\"color\":\"#E5ECF6\",\"width\":0.5},\"pattern\":{\"fillmode\":\"overlay\",\"size\":10,\"solidity\":0.2}},\"type\":\"barpolar\"}],\"pie\":[{\"automargin\":true,\"type\":\"pie\"}]},\"layout\":{\"autotypenumbers\":\"strict\",\"colorway\":[\"#636efa\",\"#EF553B\",\"#00cc96\",\"#ab63fa\",\"#FFA15A\",\"#19d3f3\",\"#FF6692\",\"#B6E880\",\"#FF97FF\",\"#FECB52\"],\"font\":{\"color\":\"#2a3f5f\"},\"hovermode\":\"closest\",\"hoverlabel\":{\"align\":\"left\"},\"paper_bgcolor\":\"white\",\"plot_bgcolor\":\"#E5ECF6\",\"polar\":{\"bgcolor\":\"#E5ECF6\",\"angularaxis\":{\"gridcolor\":\"white\",\"linecolor\":\"white\",\"ticks\":\"\"},\"radialaxis\":{\"gridcolor\":\"white\",\"linecolor\":\"white\",\"ticks\":\"\"}},\"ternary\":{\"bgcolor\":\"#E5ECF6\",\"aaxis\":{\"gridcolor\":\"white\",\"linecolor\":\"white\",\"ticks\":\"\"},\"baxis\":{\"gridcolor\":\"white\",\"linecolor\":\"white\",\"ticks\":\"\"},\"caxis\":{\"gridcolor\":\"white\",\"linecolor\":\"white\",\"ticks\":\"\"}},\"coloraxis\":{\"colorbar\":{\"outlinewidth\":0,\"ticks\":\"\"}},\"colorscale\":{\"sequential\":[[0.0,\"#0d0887\"],[0.1111111111111111,\"#46039f\"],[0.2222222222222222,\"#7201a8\"],[0.3333333333333333,\"#9c179e\"],[0.4444444444444444,\"#bd3786\"],[0.5555555555555556,\"#d8576b\"],[0.6666666666666666,\"#ed7953\"],[0.7777777777777778,\"#fb9f3a\"],[0.8888888888888888,\"#fdca26\"],[1.0,\"#f0f921\"]],\"sequentialminus\":[[0.0,\"#0d0887\"],[0.1111111111111111,\"#46039f\"],[0.2222222222222222,\"#7201a8\"],[0.3333333333333333,\"#9c179e\"],[0.4444444444444444,\"#bd3786\"],[0.5555555555555556,\"#d8576b\"],[0.6666666666666666,\"#ed7953\"],[0.7777777777777778,\"#fb9f3a\"],[0.8888888888888888,\"#fdca26\"],[1.0,\"#f0f921\"]],\"diverging\":[[0,\"#8e0152\"],[0.1,\"#c51b7d\"],[0.2,\"#de77ae\"],[0.3,\"#f1b6da\"],[0.4,\"#fde0ef\"],[0.5,\"#f7f7f7\"],[0.6,\"#e6f5d0\"],[0.7,\"#b8e186\"],[0.8,\"#7fbc41\"],[0.9,\"#4d9221\"],[1,\"#276419\"]]},\"xaxis\":{\"gridcolor\":\"white\",\"linecolor\":\"white\",\"ticks\":\"\",\"title\":{\"standoff\":15},\"zerolinecolor\":\"white\",\"automargin\":true,\"zerolinewidth\":2},\"yaxis\":{\"gridcolor\":\"white\",\"linecolor\":\"white\",\"ticks\":\"\",\"title\":{\"standoff\":15},\"zerolinecolor\":\"white\",\"automargin\":true,\"zerolinewidth\":2},\"scene\":{\"xaxis\":{\"backgroundcolor\":\"#E5ECF6\",\"gridcolor\":\"white\",\"linecolor\":\"white\",\"showbackground\":true,\"ticks\":\"\",\"zerolinecolor\":\"white\",\"gridwidth\":2},\"yaxis\":{\"backgroundcolor\":\"#E5ECF6\",\"gridcolor\":\"white\",\"linecolor\":\"white\",\"showbackground\":true,\"ticks\":\"\",\"zerolinecolor\":\"white\",\"gridwidth\":2},\"zaxis\":{\"backgroundcolor\":\"#E5ECF6\",\"gridcolor\":\"white\",\"linecolor\":\"white\",\"showbackground\":true,\"ticks\":\"\",\"zerolinecolor\":\"white\",\"gridwidth\":2}},\"shapedefaults\":{\"line\":{\"color\":\"#2a3f5f\"}},\"annotationdefaults\":{\"arrowcolor\":\"#2a3f5f\",\"arrowhead\":0,\"arrowwidth\":1},\"geo\":{\"bgcolor\":\"white\",\"landcolor\":\"#E5ECF6\",\"subunitcolor\":\"white\",\"showland\":true,\"showlakes\":true,\"lakecolor\":\"white\"},\"title\":{\"x\":0.05},\"mapbox\":{\"style\":\"light\"}}},\"scene\":{\"domain\":{\"x\":[0.0,1.0],\"y\":[0.0,1.0]},\"xaxis\":{\"title\":{\"text\":\"Lead Times (giorni)\"}},\"yaxis\":{\"title\":{\"text\":\"Costs (\\u20ac)\"}},\"zaxis\":{\"title\":{\"text\":\"Number of Products Sold\"}}},\"legend\":{\"title\":{\"text\":\"Supplier name\"},\"tracegroupgap\":0},\"title\":{\"text\":\"3D Scatter Plot of Lead Times, Costs, and Number of Products Sold\"},\"height\":800,\"width\":1200},                        {\"responsive\": true}                    ).then(function(){\n",
       "                            \n",
       "var gd = document.getElementById('ef26fddf-30d9-4ddf-9d5c-9433c3adcf5e');\n",
       "var x = new MutationObserver(function (mutations, observer) {{\n",
       "        var display = window.getComputedStyle(gd).display;\n",
       "        if (!display || display === 'none') {{\n",
       "            console.log([gd, 'removed!']);\n",
       "            Plotly.purge(gd);\n",
       "            observer.disconnect();\n",
       "        }}\n",
       "}});\n",
       "\n",
       "// Listen for the removal of the full notebook cells\n",
       "var notebookContainer = gd.closest('#notebook-container');\n",
       "if (notebookContainer) {{\n",
       "    x.observe(notebookContainer, {childList: true});\n",
       "}}\n",
       "\n",
       "// Listen for the clearing of the current output cell\n",
       "var outputEl = gd.closest('.output');\n",
       "if (outputEl) {{\n",
       "    x.observe(outputEl, {childList: true});\n",
       "}}\n",
       "\n",
       "                        })                };                });            </script>        </div>"
      ]
     },
     "metadata": {},
     "output_type": "display_data"
    }
   ],
   "source": [
    "import pandas as pd\n",
    "import plotly.express as px\n",
    "\n",
    "# Caricamento del dataset\n",
    "file_path = \"supply_chain_data.csv\"  # Modifica il percorso se necessario\n",
    "data = pd.read_csv(file_path)\n",
    "\n",
    "# Assicuriamoci che i dati necessari siano numerici\n",
    "data['Lead times'] = pd.to_numeric(data['Lead times'], errors='coerce')\n",
    "data['Costs'] = pd.to_numeric(data['Costs'], errors='coerce')\n",
    "data['Number of products sold'] = pd.to_numeric(data['Number of products sold'], errors='coerce')\n",
    "\n",
    "# Rimozione dei valori mancanti\n",
    "data.dropna(subset=['Lead times', 'Costs', 'Number of products sold'], inplace=True)\n",
    "\n",
    "# Creazione del grafico 3D interattivo\n",
    "fig = px.scatter_3d(data, x='Lead times', y='Costs', z='Number of products sold', \n",
    "                    color='Supplier name',  # Colonna categorica per colorare i punti\n",
    "                    title=\"3D Scatter Plot of Lead Times, Costs, and Number of Products Sold\",\n",
    "                    labels={\n",
    "                        'Lead times': 'Lead Times (giorni)',\n",
    "                        'Costs': 'Costs (€)',\n",
    "                        'Number of products sold': 'Number of Products Sold'\n",
    "                    },\n",
    "                    width=1200, height=800)  # Dimensioni del grafico\n",
    "# Visualizzazione del grafico interattivo\n",
    "fig.show()"
   ]
  },
  {
   "cell_type": "code",
   "execution_count": 100,
   "id": "d06c0b8b-e224-4597-8171-6260ed703fb8",
   "metadata": {},
   "outputs": [
    {
     "name": "stderr",
     "output_type": "stream",
     "text": [
      "h:\\ProgramData\\anaconda3\\Lib\\site-packages\\sklearn\\cluster\\_kmeans.py:1446: UserWarning:\n",
      "\n",
      "KMeans is known to have a memory leak on Windows with MKL, when there are less chunks than available threads. You can avoid it by setting the environment variable OMP_NUM_THREADS=1.\n",
      "\n"
     ]
    },
    {
     "data": {
      "application/vnd.plotly.v1+json": {
       "config": {
        "plotlyServerURL": "https://plot.ly"
       },
       "data": [
        {
         "hovertemplate": "Price=%{x}<br>Availability=%{y}<br>Number of products sold=%{z}<br>cluster=%{marker.color}<extra></extra>",
         "legendgroup": "",
         "marker": {
          "color": [
           2,
           1,
           1,
           1,
           0,
           1,
           3,
           2,
           3,
           1,
           0,
           2,
           2,
           0,
           2,
           0,
           1,
           3,
           3,
           1,
           3,
           2,
           0,
           0,
           3,
           1,
           2,
           3,
           0,
           3,
           1,
           2,
           2,
           3,
           2,
           2,
           1,
           0,
           1,
           1,
           0,
           0,
           1,
           2,
           1,
           1,
           0,
           3,
           3,
           2,
           1,
           1,
           2,
           2,
           1,
           0,
           1,
           1,
           0,
           2,
           1,
           3,
           0,
           1,
           2,
           1,
           1,
           3,
           0,
           0,
           1,
           0,
           3,
           2,
           0,
           3,
           3,
           2,
           0,
           2,
           2,
           0,
           1,
           0,
           1,
           2,
           0,
           3,
           2,
           3,
           1,
           1,
           0,
           1,
           1,
           3,
           1,
           0,
           0,
           2
          ],
          "coloraxis": "coloraxis",
          "symbol": "circle"
         },
         "mode": "markers",
         "name": "",
         "scene": "scene",
         "showlegend": false,
         "type": "scatter3d",
         "x": [
          69.80800554211577,
          14.84352327508434,
          11.319683293090566,
          61.163343016437736,
          4.805496036345893,
          1.6999760138659377,
          4.078332863107945,
          42.95838438246007,
          68.71759674852733,
          64.01573294127854,
          15.707795681912138,
          90.63545998228868,
          71.21338907536008,
          16.160393317379977,
          99.1713286386242,
          36.98924492862691,
          7.547172109791272,
          81.46253436923702,
          36.443627770460935,
          51.12387008796474,
          96.34107243996338,
          84.89386898495083,
          27.67978088650196,
          4.324341185864164,
          4.156308359311108,
          39.62934398509263,
          97.44694661789282,
          92.55736081240202,
          2.397274705597141,
          63.44755918520733,
          8.022859210526393,
          50.8473930517187,
          79.20993601565672,
          64.7954350001556,
          37.46759232984246,
          84.95778681635043,
          9.813002578754052,
          23.39984475261435,
          52.0759306827078,
          19.127477265823256,
          80.54142417094033,
          99.11329161531717,
          46.52916761451677,
          11.74327177630924,
          51.35579091311039,
          33.78413803306551,
          27.0822071998889,
          95.71213588093607,
          76.03554442689172,
          78.89791320564004,
          14.203484264803022,
          26.70076097246173,
          98.03182965646508,
          30.34147071121421,
          31.146243160240854,
          79.85505834078943,
          20.986386037043378,
          49.26320535073416,
          59.84156137728931,
          63.828398347710966,
          17.028027920188702,
          52.02874990329492,
          72.79635395558736,
          13.017376785287857,
          89.63409560813533,
          33.69771720664313,
          26.03486977396209,
          87.75543235400107,
          37.93181238279032,
          54.86552851706979,
          47.914541824058766,
          6.381533162747966,
          90.20442752052809,
          83.8510176813046,
          3.170011413566155,
          92.99688423397066,
          69.10879954743032,
          57.44974295897148,
          6.306883176111915,
          57.05703122110322,
          91.12831835044432,
          72.81920693031822,
          17.034930739467917,
          68.91124621160633,
          89.10436729210225,
          76.96299441519388,
          19.99817694040422,
          80.41403665035574,
          75.27040697572501,
          97.76008558193868,
          13.881913501359142,
          62.11196546396179,
          47.71423307582023,
          69.29083100290549,
          3.037688724631414,
          77.90392721944775,
          24.42313142037338,
          3.526111259143416,
          19.7546048668786,
          68.51783269927664
         ],
         "y": [
          55,
          95,
          34,
          68,
          26,
          87,
          48,
          59,
          78,
          35,
          11,
          95,
          41,
          5,
          26,
          94,
          74,
          82,
          23,
          100,
          22,
          60,
          55,
          30,
          32,
          73,
          9,
          42,
          12,
          3,
          10,
          28,
          43,
          63,
          96,
          11,
          34,
          5,
          75,
          26,
          97,
          35,
          98,
          6,
          34,
          1,
          75,
          93,
          28,
          19,
          91,
          61,
          1,
          93,
          11,
          16,
          90,
          65,
          81,
          30,
          16,
          23,
          89,
          55,
          11,
          72,
          52,
          16,
          29,
          62,
          90,
          14,
          88,
          41,
          64,
          29,
          23,
          14,
          50,
          56,
          75,
          9,
          13,
          82,
          99,
          83,
          18,
          24,
          58,
          10,
          56,
          90,
          44,
          88,
          97,
          65,
          29,
          56,
          43,
          17
         ],
         "z": [
          802,
          736,
          8,
          83,
          871,
          147,
          65,
          426,
          150,
          980,
          996,
          960,
          336,
          249,
          562,
          469,
          280,
          126,
          620,
          187,
          320,
          601,
          884,
          391,
          209,
          142,
          353,
          352,
          394,
          253,
          327,
          168,
          781,
          616,
          602,
          449,
          963,
          963,
          705,
          176,
          933,
          556,
          155,
          598,
          919,
          24,
          859,
          910,
          29,
          99,
          633,
          154,
          820,
          242,
          622,
          701,
          93,
          227,
          896,
          484,
          380,
          117,
          270,
          246,
          134,
          457,
          704,
          513,
          163,
          511,
          32,
          637,
          478,
          375,
          904,
          106,
          241,
          359,
          946,
          198,
          872,
          774,
          336,
          663,
          618,
          25,
          223,
          79,
          737,
          134,
          320,
          916,
          276,
          114,
          987,
          672,
          324,
          62,
          913,
          627
         ]
        }
       ],
       "layout": {
        "coloraxis": {
         "colorbar": {
          "title": {
           "text": "cluster"
          }
         },
         "colorscale": [
          [
           0,
           "#0d0887"
          ],
          [
           0.1111111111111111,
           "#46039f"
          ],
          [
           0.2222222222222222,
           "#7201a8"
          ],
          [
           0.3333333333333333,
           "#9c179e"
          ],
          [
           0.4444444444444444,
           "#bd3786"
          ],
          [
           0.5555555555555556,
           "#d8576b"
          ],
          [
           0.6666666666666666,
           "#ed7953"
          ],
          [
           0.7777777777777778,
           "#fb9f3a"
          ],
          [
           0.8888888888888888,
           "#fdca26"
          ],
          [
           1,
           "#f0f921"
          ]
         ]
        },
        "height": 800,
        "legend": {
         "tracegroupgap": 0
        },
        "scene": {
         "aspectmode": "auto",
         "aspectratio": {
          "x": 1,
          "y": 1,
          "z": 1
         },
         "camera": {
          "center": {
           "x": 0,
           "y": 0,
           "z": 0
          },
          "eye": {
           "x": -1.396597665626059,
           "y": 1.106017782065113,
           "z": 1.2118038568386185
          },
          "projection": {
           "type": "perspective"
          },
          "up": {
           "x": 0,
           "y": 0,
           "z": 1
          }
         },
         "domain": {
          "x": [
           0,
           1
          ],
          "y": [
           0,
           1
          ]
         },
         "xaxis": {
          "title": {
           "text": "Price"
          },
          "type": "linear"
         },
         "yaxis": {
          "title": {
           "text": "Availability"
          },
          "type": "linear"
         },
         "zaxis": {
          "title": {
           "text": "Number of products sold"
          },
          "type": "linear"
         }
        },
        "template": {
         "data": {
          "bar": [
           {
            "error_x": {
             "color": "#2a3f5f"
            },
            "error_y": {
             "color": "#2a3f5f"
            },
            "marker": {
             "line": {
              "color": "#E5ECF6",
              "width": 0.5
             },
             "pattern": {
              "fillmode": "overlay",
              "size": 10,
              "solidity": 0.2
             }
            },
            "type": "bar"
           }
          ],
          "barpolar": [
           {
            "marker": {
             "line": {
              "color": "#E5ECF6",
              "width": 0.5
             },
             "pattern": {
              "fillmode": "overlay",
              "size": 10,
              "solidity": 0.2
             }
            },
            "type": "barpolar"
           }
          ],
          "carpet": [
           {
            "aaxis": {
             "endlinecolor": "#2a3f5f",
             "gridcolor": "white",
             "linecolor": "white",
             "minorgridcolor": "white",
             "startlinecolor": "#2a3f5f"
            },
            "baxis": {
             "endlinecolor": "#2a3f5f",
             "gridcolor": "white",
             "linecolor": "white",
             "minorgridcolor": "white",
             "startlinecolor": "#2a3f5f"
            },
            "type": "carpet"
           }
          ],
          "choropleth": [
           {
            "colorbar": {
             "outlinewidth": 0,
             "ticks": ""
            },
            "type": "choropleth"
           }
          ],
          "contour": [
           {
            "colorbar": {
             "outlinewidth": 0,
             "ticks": ""
            },
            "colorscale": [
             [
              0,
              "#0d0887"
             ],
             [
              0.1111111111111111,
              "#46039f"
             ],
             [
              0.2222222222222222,
              "#7201a8"
             ],
             [
              0.3333333333333333,
              "#9c179e"
             ],
             [
              0.4444444444444444,
              "#bd3786"
             ],
             [
              0.5555555555555556,
              "#d8576b"
             ],
             [
              0.6666666666666666,
              "#ed7953"
             ],
             [
              0.7777777777777778,
              "#fb9f3a"
             ],
             [
              0.8888888888888888,
              "#fdca26"
             ],
             [
              1,
              "#f0f921"
             ]
            ],
            "type": "contour"
           }
          ],
          "contourcarpet": [
           {
            "colorbar": {
             "outlinewidth": 0,
             "ticks": ""
            },
            "type": "contourcarpet"
           }
          ],
          "heatmap": [
           {
            "colorbar": {
             "outlinewidth": 0,
             "ticks": ""
            },
            "colorscale": [
             [
              0,
              "#0d0887"
             ],
             [
              0.1111111111111111,
              "#46039f"
             ],
             [
              0.2222222222222222,
              "#7201a8"
             ],
             [
              0.3333333333333333,
              "#9c179e"
             ],
             [
              0.4444444444444444,
              "#bd3786"
             ],
             [
              0.5555555555555556,
              "#d8576b"
             ],
             [
              0.6666666666666666,
              "#ed7953"
             ],
             [
              0.7777777777777778,
              "#fb9f3a"
             ],
             [
              0.8888888888888888,
              "#fdca26"
             ],
             [
              1,
              "#f0f921"
             ]
            ],
            "type": "heatmap"
           }
          ],
          "heatmapgl": [
           {
            "colorbar": {
             "outlinewidth": 0,
             "ticks": ""
            },
            "colorscale": [
             [
              0,
              "#0d0887"
             ],
             [
              0.1111111111111111,
              "#46039f"
             ],
             [
              0.2222222222222222,
              "#7201a8"
             ],
             [
              0.3333333333333333,
              "#9c179e"
             ],
             [
              0.4444444444444444,
              "#bd3786"
             ],
             [
              0.5555555555555556,
              "#d8576b"
             ],
             [
              0.6666666666666666,
              "#ed7953"
             ],
             [
              0.7777777777777778,
              "#fb9f3a"
             ],
             [
              0.8888888888888888,
              "#fdca26"
             ],
             [
              1,
              "#f0f921"
             ]
            ],
            "type": "heatmapgl"
           }
          ],
          "histogram": [
           {
            "marker": {
             "pattern": {
              "fillmode": "overlay",
              "size": 10,
              "solidity": 0.2
             }
            },
            "type": "histogram"
           }
          ],
          "histogram2d": [
           {
            "colorbar": {
             "outlinewidth": 0,
             "ticks": ""
            },
            "colorscale": [
             [
              0,
              "#0d0887"
             ],
             [
              0.1111111111111111,
              "#46039f"
             ],
             [
              0.2222222222222222,
              "#7201a8"
             ],
             [
              0.3333333333333333,
              "#9c179e"
             ],
             [
              0.4444444444444444,
              "#bd3786"
             ],
             [
              0.5555555555555556,
              "#d8576b"
             ],
             [
              0.6666666666666666,
              "#ed7953"
             ],
             [
              0.7777777777777778,
              "#fb9f3a"
             ],
             [
              0.8888888888888888,
              "#fdca26"
             ],
             [
              1,
              "#f0f921"
             ]
            ],
            "type": "histogram2d"
           }
          ],
          "histogram2dcontour": [
           {
            "colorbar": {
             "outlinewidth": 0,
             "ticks": ""
            },
            "colorscale": [
             [
              0,
              "#0d0887"
             ],
             [
              0.1111111111111111,
              "#46039f"
             ],
             [
              0.2222222222222222,
              "#7201a8"
             ],
             [
              0.3333333333333333,
              "#9c179e"
             ],
             [
              0.4444444444444444,
              "#bd3786"
             ],
             [
              0.5555555555555556,
              "#d8576b"
             ],
             [
              0.6666666666666666,
              "#ed7953"
             ],
             [
              0.7777777777777778,
              "#fb9f3a"
             ],
             [
              0.8888888888888888,
              "#fdca26"
             ],
             [
              1,
              "#f0f921"
             ]
            ],
            "type": "histogram2dcontour"
           }
          ],
          "mesh3d": [
           {
            "colorbar": {
             "outlinewidth": 0,
             "ticks": ""
            },
            "type": "mesh3d"
           }
          ],
          "parcoords": [
           {
            "line": {
             "colorbar": {
              "outlinewidth": 0,
              "ticks": ""
             }
            },
            "type": "parcoords"
           }
          ],
          "pie": [
           {
            "automargin": true,
            "type": "pie"
           }
          ],
          "scatter": [
           {
            "fillpattern": {
             "fillmode": "overlay",
             "size": 10,
             "solidity": 0.2
            },
            "type": "scatter"
           }
          ],
          "scatter3d": [
           {
            "line": {
             "colorbar": {
              "outlinewidth": 0,
              "ticks": ""
             }
            },
            "marker": {
             "colorbar": {
              "outlinewidth": 0,
              "ticks": ""
             }
            },
            "type": "scatter3d"
           }
          ],
          "scattercarpet": [
           {
            "marker": {
             "colorbar": {
              "outlinewidth": 0,
              "ticks": ""
             }
            },
            "type": "scattercarpet"
           }
          ],
          "scattergeo": [
           {
            "marker": {
             "colorbar": {
              "outlinewidth": 0,
              "ticks": ""
             }
            },
            "type": "scattergeo"
           }
          ],
          "scattergl": [
           {
            "marker": {
             "colorbar": {
              "outlinewidth": 0,
              "ticks": ""
             }
            },
            "type": "scattergl"
           }
          ],
          "scattermapbox": [
           {
            "marker": {
             "colorbar": {
              "outlinewidth": 0,
              "ticks": ""
             }
            },
            "type": "scattermapbox"
           }
          ],
          "scatterpolar": [
           {
            "marker": {
             "colorbar": {
              "outlinewidth": 0,
              "ticks": ""
             }
            },
            "type": "scatterpolar"
           }
          ],
          "scatterpolargl": [
           {
            "marker": {
             "colorbar": {
              "outlinewidth": 0,
              "ticks": ""
             }
            },
            "type": "scatterpolargl"
           }
          ],
          "scatterternary": [
           {
            "marker": {
             "colorbar": {
              "outlinewidth": 0,
              "ticks": ""
             }
            },
            "type": "scatterternary"
           }
          ],
          "surface": [
           {
            "colorbar": {
             "outlinewidth": 0,
             "ticks": ""
            },
            "colorscale": [
             [
              0,
              "#0d0887"
             ],
             [
              0.1111111111111111,
              "#46039f"
             ],
             [
              0.2222222222222222,
              "#7201a8"
             ],
             [
              0.3333333333333333,
              "#9c179e"
             ],
             [
              0.4444444444444444,
              "#bd3786"
             ],
             [
              0.5555555555555556,
              "#d8576b"
             ],
             [
              0.6666666666666666,
              "#ed7953"
             ],
             [
              0.7777777777777778,
              "#fb9f3a"
             ],
             [
              0.8888888888888888,
              "#fdca26"
             ],
             [
              1,
              "#f0f921"
             ]
            ],
            "type": "surface"
           }
          ],
          "table": [
           {
            "cells": {
             "fill": {
              "color": "#EBF0F8"
             },
             "line": {
              "color": "white"
             }
            },
            "header": {
             "fill": {
              "color": "#C8D4E3"
             },
             "line": {
              "color": "white"
             }
            },
            "type": "table"
           }
          ]
         },
         "layout": {
          "annotationdefaults": {
           "arrowcolor": "#2a3f5f",
           "arrowhead": 0,
           "arrowwidth": 1
          },
          "autotypenumbers": "strict",
          "coloraxis": {
           "colorbar": {
            "outlinewidth": 0,
            "ticks": ""
           }
          },
          "colorscale": {
           "diverging": [
            [
             0,
             "#8e0152"
            ],
            [
             0.1,
             "#c51b7d"
            ],
            [
             0.2,
             "#de77ae"
            ],
            [
             0.3,
             "#f1b6da"
            ],
            [
             0.4,
             "#fde0ef"
            ],
            [
             0.5,
             "#f7f7f7"
            ],
            [
             0.6,
             "#e6f5d0"
            ],
            [
             0.7,
             "#b8e186"
            ],
            [
             0.8,
             "#7fbc41"
            ],
            [
             0.9,
             "#4d9221"
            ],
            [
             1,
             "#276419"
            ]
           ],
           "sequential": [
            [
             0,
             "#0d0887"
            ],
            [
             0.1111111111111111,
             "#46039f"
            ],
            [
             0.2222222222222222,
             "#7201a8"
            ],
            [
             0.3333333333333333,
             "#9c179e"
            ],
            [
             0.4444444444444444,
             "#bd3786"
            ],
            [
             0.5555555555555556,
             "#d8576b"
            ],
            [
             0.6666666666666666,
             "#ed7953"
            ],
            [
             0.7777777777777778,
             "#fb9f3a"
            ],
            [
             0.8888888888888888,
             "#fdca26"
            ],
            [
             1,
             "#f0f921"
            ]
           ],
           "sequentialminus": [
            [
             0,
             "#0d0887"
            ],
            [
             0.1111111111111111,
             "#46039f"
            ],
            [
             0.2222222222222222,
             "#7201a8"
            ],
            [
             0.3333333333333333,
             "#9c179e"
            ],
            [
             0.4444444444444444,
             "#bd3786"
            ],
            [
             0.5555555555555556,
             "#d8576b"
            ],
            [
             0.6666666666666666,
             "#ed7953"
            ],
            [
             0.7777777777777778,
             "#fb9f3a"
            ],
            [
             0.8888888888888888,
             "#fdca26"
            ],
            [
             1,
             "#f0f921"
            ]
           ]
          },
          "colorway": [
           "#636efa",
           "#EF553B",
           "#00cc96",
           "#ab63fa",
           "#FFA15A",
           "#19d3f3",
           "#FF6692",
           "#B6E880",
           "#FF97FF",
           "#FECB52"
          ],
          "font": {
           "color": "#2a3f5f"
          },
          "geo": {
           "bgcolor": "white",
           "lakecolor": "white",
           "landcolor": "#E5ECF6",
           "showlakes": true,
           "showland": true,
           "subunitcolor": "white"
          },
          "hoverlabel": {
           "align": "left"
          },
          "hovermode": "closest",
          "mapbox": {
           "style": "light"
          },
          "paper_bgcolor": "white",
          "plot_bgcolor": "#E5ECF6",
          "polar": {
           "angularaxis": {
            "gridcolor": "white",
            "linecolor": "white",
            "ticks": ""
           },
           "bgcolor": "#E5ECF6",
           "radialaxis": {
            "gridcolor": "white",
            "linecolor": "white",
            "ticks": ""
           }
          },
          "scene": {
           "xaxis": {
            "backgroundcolor": "#E5ECF6",
            "gridcolor": "white",
            "gridwidth": 2,
            "linecolor": "white",
            "showbackground": true,
            "ticks": "",
            "zerolinecolor": "white"
           },
           "yaxis": {
            "backgroundcolor": "#E5ECF6",
            "gridcolor": "white",
            "gridwidth": 2,
            "linecolor": "white",
            "showbackground": true,
            "ticks": "",
            "zerolinecolor": "white"
           },
           "zaxis": {
            "backgroundcolor": "#E5ECF6",
            "gridcolor": "white",
            "gridwidth": 2,
            "linecolor": "white",
            "showbackground": true,
            "ticks": "",
            "zerolinecolor": "white"
           }
          },
          "shapedefaults": {
           "line": {
            "color": "#2a3f5f"
           }
          },
          "ternary": {
           "aaxis": {
            "gridcolor": "white",
            "linecolor": "white",
            "ticks": ""
           },
           "baxis": {
            "gridcolor": "white",
            "linecolor": "white",
            "ticks": ""
           },
           "bgcolor": "#E5ECF6",
           "caxis": {
            "gridcolor": "white",
            "linecolor": "white",
            "ticks": ""
           }
          },
          "title": {
           "x": 0.05
          },
          "xaxis": {
           "automargin": true,
           "gridcolor": "white",
           "linecolor": "white",
           "ticks": "",
           "title": {
            "standoff": 15
           },
           "zerolinecolor": "white",
           "zerolinewidth": 2
          },
          "yaxis": {
           "automargin": true,
           "gridcolor": "white",
           "linecolor": "white",
           "ticks": "",
           "title": {
            "standoff": 15
           },
           "zerolinecolor": "white",
           "zerolinewidth": 2
          }
         }
        },
        "title": {
         "text": "3D Clustering of Key Numeric Features"
        },
        "width": 1200
       }
      },
      "image/png": "[encoded data removed]",
      "text/html": [
       "<div>                            <div id=\"a11542dc-6579-4212-812a-146a5b43203a\" class=\"plotly-graph-div\" style=\"height:800px; width:1200px;\"></div>            <script type=\"text/javascript\">                require([\"plotly\"], function(Plotly) {                    window.PLOTLYENV=window.PLOTLYENV || {};                                    if (document.getElementById(\"a11542dc-6579-4212-812a-146a5b43203a\")) {                    Plotly.newPlot(                        \"a11542dc-6579-4212-812a-146a5b43203a\",                        [{\"hovertemplate\":\"Price=%{x}\\u003cbr\\u003eAvailability=%{y}\\u003cbr\\u003eNumber of products sold=%{z}\\u003cbr\\u003ecluster=%{marker.color}\\u003cextra\\u003e\\u003c\\u002fextra\\u003e\",\"legendgroup\":\"\",\"marker\":{\"color\":[2,1,1,1,0,1,3,2,3,1,0,2,2,0,2,0,1,3,3,1,3,2,0,0,3,1,2,3,0,3,1,2,2,3,2,2,1,0,1,1,0,0,1,2,1,1,0,3,3,2,1,1,2,2,1,0,1,1,0,2,1,3,0,1,2,1,1,3,0,0,1,0,3,2,0,3,3,2,0,2,2,0,1,0,1,2,0,3,2,3,1,1,0,1,1,3,1,0,0,2],\"coloraxis\":\"coloraxis\",\"symbol\":\"circle\"},\"mode\":\"markers\",\"name\":\"\",\"scene\":\"scene\",\"showlegend\":false,\"x\":[69.80800554211577,14.84352327508434,11.319683293090566,61.163343016437736,4.805496036345893,1.6999760138659377,4.078332863107945,42.95838438246007,68.71759674852733,64.01573294127854,15.707795681912138,90.63545998228868,71.21338907536008,16.160393317379977,99.1713286386242,36.98924492862691,7.547172109791272,81.46253436923702,36.443627770460935,51.12387008796474,96.34107243996338,84.89386898495083,27.67978088650196,4.324341185864164,4.156308359311108,39.62934398509263,97.44694661789282,92.55736081240202,2.397274705597141,63.44755918520733,8.022859210526393,50.8473930517187,79.20993601565672,64.7954350001556,37.46759232984246,84.95778681635043,9.813002578754052,23.39984475261435,52.0759306827078,19.127477265823256,80.54142417094033,99.11329161531717,46.52916761451677,11.74327177630924,51.35579091311039,33.78413803306551,27.0822071998889,95.71213588093607,76.03554442689172,78.89791320564004,14.203484264803022,26.70076097246173,98.03182965646508,30.34147071121421,31.146243160240854,79.85505834078943,20.986386037043378,49.26320535073416,59.84156137728931,63.828398347710966,17.028027920188702,52.02874990329492,72.79635395558736,13.017376785287857,89.63409560813533,33.69771720664313,26.03486977396209,87.75543235400107,37.93181238279032,54.86552851706979,47.914541824058766,6.381533162747966,90.20442752052809,83.8510176813046,3.170011413566155,92.99688423397066,69.10879954743032,57.44974295897148,6.306883176111915,57.05703122110322,91.12831835044432,72.81920693031822,17.034930739467917,68.91124621160633,89.10436729210225,76.96299441519388,19.99817694040422,80.41403665035574,75.27040697572501,97.76008558193868,13.881913501359142,62.11196546396179,47.71423307582023,69.29083100290549,3.037688724631414,77.90392721944775,24.42313142037338,3.526111259143416,19.7546048668786,68.51783269927664],\"y\":[55,95,34,68,26,87,48,59,78,35,11,95,41,5,26,94,74,82,23,100,22,60,55,30,32,73,9,42,12,3,10,28,43,63,96,11,34,5,75,26,97,35,98,6,34,1,75,93,28,19,91,61,1,93,11,16,90,65,81,30,16,23,89,55,11,72,52,16,29,62,90,14,88,41,64,29,23,14,50,56,75,9,13,82,99,83,18,24,58,10,56,90,44,88,97,65,29,56,43,17],\"z\":[802,736,8,83,871,147,65,426,150,980,996,960,336,249,562,469,280,126,620,187,320,601,884,391,209,142,353,352,394,253,327,168,781,616,602,449,963,963,705,176,933,556,155,598,919,24,859,910,29,99,633,154,820,242,622,701,93,227,896,484,380,117,270,246,134,457,704,513,163,511,32,637,478,375,904,106,241,359,946,198,872,774,336,663,618,25,223,79,737,134,320,916,276,114,987,672,324,62,913,627],\"type\":\"scatter3d\"}],                        {\"template\":{\"data\":{\"histogram2dcontour\":[{\"type\":\"histogram2dcontour\",\"colorbar\":{\"outlinewidth\":0,\"ticks\":\"\"},\"colorscale\":[[0.0,\"#0d0887\"],[0.1111111111111111,\"#46039f\"],[0.2222222222222222,\"#7201a8\"],[0.3333333333333333,\"#9c179e\"],[0.4444444444444444,\"#bd3786\"],[0.5555555555555556,\"#d8576b\"],[0.6666666666666666,\"#ed7953\"],[0.7777777777777778,\"#fb9f3a\"],[0.8888888888888888,\"#fdca26\"],[1.0,\"#f0f921\"]]}],\"choropleth\":[{\"type\":\"choropleth\",\"colorbar\":{\"outlinewidth\":0,\"ticks\":\"\"}}],\"histogram2d\":[{\"type\":\"histogram2d\",\"colorbar\":{\"outlinewidth\":0,\"ticks\":\"\"},\"colorscale\":[[0.0,\"#0d0887\"],[0.1111111111111111,\"#46039f\"],[0.2222222222222222,\"#7201a8\"],[0.3333333333333333,\"#9c179e\"],[0.4444444444444444,\"#bd3786\"],[0.5555555555555556,\"#d8576b\"],[0.6666666666666666,\"#ed7953\"],[0.7777777777777778,\"#fb9f3a\"],[0.8888888888888888,\"#fdca26\"],[1.0,\"#f0f921\"]]}],\"heatmap\":[{\"type\":\"heatmap\",\"colorbar\":{\"outlinewidth\":0,\"ticks\":\"\"},\"colorscale\":[[0.0,\"#0d0887\"],[0.1111111111111111,\"#46039f\"],[0.2222222222222222,\"#7201a8\"],[0.3333333333333333,\"#9c179e\"],[0.4444444444444444,\"#bd3786\"],[0.5555555555555556,\"#d8576b\"],[0.6666666666666666,\"#ed7953\"],[0.7777777777777778,\"#fb9f3a\"],[0.8888888888888888,\"#fdca26\"],[1.0,\"#f0f921\"]]}],\"heatmapgl\":[{\"type\":\"heatmapgl\",\"colorbar\":{\"outlinewidth\":0,\"ticks\":\"\"},\"colorscale\":[[0.0,\"#0d0887\"],[0.1111111111111111,\"#46039f\"],[0.2222222222222222,\"#7201a8\"],[0.3333333333333333,\"#9c179e\"],[0.4444444444444444,\"#bd3786\"],[0.5555555555555556,\"#d8576b\"],[0.6666666666666666,\"#ed7953\"],[0.7777777777777778,\"#fb9f3a\"],[0.8888888888888888,\"#fdca26\"],[1.0,\"#f0f921\"]]}],\"contourcarpet\":[{\"type\":\"contourcarpet\",\"colorbar\":{\"outlinewidth\":0,\"ticks\":\"\"}}],\"contour\":[{\"type\":\"contour\",\"colorbar\":{\"outlinewidth\":0,\"ticks\":\"\"},\"colorscale\":[[0.0,\"#0d0887\"],[0.1111111111111111,\"#46039f\"],[0.2222222222222222,\"#7201a8\"],[0.3333333333333333,\"#9c179e\"],[0.4444444444444444,\"#bd3786\"],[0.5555555555555556,\"#d8576b\"],[0.6666666666666666,\"#ed7953\"],[0.7777777777777778,\"#fb9f3a\"],[0.8888888888888888,\"#fdca26\"],[1.0,\"#f0f921\"]]}],\"surface\":[{\"type\":\"surface\",\"colorbar\":{\"outlinewidth\":0,\"ticks\":\"\"},\"colorscale\":[[0.0,\"#0d0887\"],[0.1111111111111111,\"#46039f\"],[0.2222222222222222,\"#7201a8\"],[0.3333333333333333,\"#9c179e\"],[0.4444444444444444,\"#bd3786\"],[0.5555555555555556,\"#d8576b\"],[0.6666666666666666,\"#ed7953\"],[0.7777777777777778,\"#fb9f3a\"],[0.8888888888888888,\"#fdca26\"],[1.0,\"#f0f921\"]]}],\"mesh3d\":[{\"type\":\"mesh3d\",\"colorbar\":{\"outlinewidth\":0,\"ticks\":\"\"}}],\"scatter\":[{\"fillpattern\":{\"fillmode\":\"overlay\",\"size\":10,\"solidity\":0.2},\"type\":\"scatter\"}],\"parcoords\":[{\"type\":\"parcoords\",\"line\":{\"colorbar\":{\"outlinewidth\":0,\"ticks\":\"\"}}}],\"scatterpolargl\":[{\"type\":\"scatterpolargl\",\"marker\":{\"colorbar\":{\"outlinewidth\":0,\"ticks\":\"\"}}}],\"bar\":[{\"error_x\":{\"color\":\"#2a3f5f\"},\"error_y\":{\"color\":\"#2a3f5f\"},\"marker\":{\"line\":{\"color\":\"#E5ECF6\",\"width\":0.5},\"pattern\":{\"fillmode\":\"overlay\",\"size\":10,\"solidity\":0.2}},\"type\":\"bar\"}],\"scattergeo\":[{\"type\":\"scattergeo\",\"marker\":{\"colorbar\":{\"outlinewidth\":0,\"ticks\":\"\"}}}],\"scatterpolar\":[{\"type\":\"scatterpolar\",\"marker\":{\"colorbar\":{\"outlinewidth\":0,\"ticks\":\"\"}}}],\"histogram\":[{\"marker\":{\"pattern\":{\"fillmode\":\"overlay\",\"size\":10,\"solidity\":0.2}},\"type\":\"histogram\"}],\"scattergl\":[{\"type\":\"scattergl\",\"marker\":{\"colorbar\":{\"outlinewidth\":0,\"ticks\":\"\"}}}],\"scatter3d\":[{\"type\":\"scatter3d\",\"line\":{\"colorbar\":{\"outlinewidth\":0,\"ticks\":\"\"}},\"marker\":{\"colorbar\":{\"outlinewidth\":0,\"ticks\":\"\"}}}],\"scattermapbox\":[{\"type\":\"scattermapbox\",\"marker\":{\"colorbar\":{\"outlinewidth\":0,\"ticks\":\"\"}}}],\"scatterternary\":[{\"type\":\"scatterternary\",\"marker\":{\"colorbar\":{\"outlinewidth\":0,\"ticks\":\"\"}}}],\"scattercarpet\":[{\"type\":\"scattercarpet\",\"marker\":{\"colorbar\":{\"outlinewidth\":0,\"ticks\":\"\"}}}],\"carpet\":[{\"aaxis\":{\"endlinecolor\":\"#2a3f5f\",\"gridcolor\":\"white\",\"linecolor\":\"white\",\"minorgridcolor\":\"white\",\"startlinecolor\":\"#2a3f5f\"},\"baxis\":{\"endlinecolor\":\"#2a3f5f\",\"gridcolor\":\"white\",\"linecolor\":\"white\",\"minorgridcolor\":\"white\",\"startlinecolor\":\"#2a3f5f\"},\"type\":\"carpet\"}],\"table\":[{\"cells\":{\"fill\":{\"color\":\"#EBF0F8\"},\"line\":{\"color\":\"white\"}},\"header\":{\"fill\":{\"color\":\"#C8D4E3\"},\"line\":{\"color\":\"white\"}},\"type\":\"table\"}],\"barpolar\":[{\"marker\":{\"line\":{\"color\":\"#E5ECF6\",\"width\":0.5},\"pattern\":{\"fillmode\":\"overlay\",\"size\":10,\"solidity\":0.2}},\"type\":\"barpolar\"}],\"pie\":[{\"automargin\":true,\"type\":\"pie\"}]},\"layout\":{\"autotypenumbers\":\"strict\",\"colorway\":[\"#636efa\",\"#EF553B\",\"#00cc96\",\"#ab63fa\",\"#FFA15A\",\"#19d3f3\",\"#FF6692\",\"#B6E880\",\"#FF97FF\",\"#FECB52\"],\"font\":{\"color\":\"#2a3f5f\"},\"hovermode\":\"closest\",\"hoverlabel\":{\"align\":\"left\"},\"paper_bgcolor\":\"white\",\"plot_bgcolor\":\"#E5ECF6\",\"polar\":{\"bgcolor\":\"#E5ECF6\",\"angularaxis\":{\"gridcolor\":\"white\",\"linecolor\":\"white\",\"ticks\":\"\"},\"radialaxis\":{\"gridcolor\":\"white\",\"linecolor\":\"white\",\"ticks\":\"\"}},\"ternary\":{\"bgcolor\":\"#E5ECF6\",\"aaxis\":{\"gridcolor\":\"white\",\"linecolor\":\"white\",\"ticks\":\"\"},\"baxis\":{\"gridcolor\":\"white\",\"linecolor\":\"white\",\"ticks\":\"\"},\"caxis\":{\"gridcolor\":\"white\",\"linecolor\":\"white\",\"ticks\":\"\"}},\"coloraxis\":{\"colorbar\":{\"outlinewidth\":0,\"ticks\":\"\"}},\"colorscale\":{\"sequential\":[[0.0,\"#0d0887\"],[0.1111111111111111,\"#46039f\"],[0.2222222222222222,\"#7201a8\"],[0.3333333333333333,\"#9c179e\"],[0.4444444444444444,\"#bd3786\"],[0.5555555555555556,\"#d8576b\"],[0.6666666666666666,\"#ed7953\"],[0.7777777777777778,\"#fb9f3a\"],[0.8888888888888888,\"#fdca26\"],[1.0,\"#f0f921\"]],\"sequentialminus\":[[0.0,\"#0d0887\"],[0.1111111111111111,\"#46039f\"],[0.2222222222222222,\"#7201a8\"],[0.3333333333333333,\"#9c179e\"],[0.4444444444444444,\"#bd3786\"],[0.5555555555555556,\"#d8576b\"],[0.6666666666666666,\"#ed7953\"],[0.7777777777777778,\"#fb9f3a\"],[0.8888888888888888,\"#fdca26\"],[1.0,\"#f0f921\"]],\"diverging\":[[0,\"#8e0152\"],[0.1,\"#c51b7d\"],[0.2,\"#de77ae\"],[0.3,\"#f1b6da\"],[0.4,\"#fde0ef\"],[0.5,\"#f7f7f7\"],[0.6,\"#e6f5d0\"],[0.7,\"#b8e186\"],[0.8,\"#7fbc41\"],[0.9,\"#4d9221\"],[1,\"#276419\"]]},\"xaxis\":{\"gridcolor\":\"white\",\"linecolor\":\"white\",\"ticks\":\"\",\"title\":{\"standoff\":15},\"zerolinecolor\":\"white\",\"automargin\":true,\"zerolinewidth\":2},\"yaxis\":{\"gridcolor\":\"white\",\"linecolor\":\"white\",\"ticks\":\"\",\"title\":{\"standoff\":15},\"zerolinecolor\":\"white\",\"automargin\":true,\"zerolinewidth\":2},\"scene\":{\"xaxis\":{\"backgroundcolor\":\"#E5ECF6\",\"gridcolor\":\"white\",\"linecolor\":\"white\",\"showbackground\":true,\"ticks\":\"\",\"zerolinecolor\":\"white\",\"gridwidth\":2},\"yaxis\":{\"backgroundcolor\":\"#E5ECF6\",\"gridcolor\":\"white\",\"linecolor\":\"white\",\"showbackground\":true,\"ticks\":\"\",\"zerolinecolor\":\"white\",\"gridwidth\":2},\"zaxis\":{\"backgroundcolor\":\"#E5ECF6\",\"gridcolor\":\"white\",\"linecolor\":\"white\",\"showbackground\":true,\"ticks\":\"\",\"zerolinecolor\":\"white\",\"gridwidth\":2}},\"shapedefaults\":{\"line\":{\"color\":\"#2a3f5f\"}},\"annotationdefaults\":{\"arrowcolor\":\"#2a3f5f\",\"arrowhead\":0,\"arrowwidth\":1},\"geo\":{\"bgcolor\":\"white\",\"landcolor\":\"#E5ECF6\",\"subunitcolor\":\"white\",\"showland\":true,\"showlakes\":true,\"lakecolor\":\"white\"},\"title\":{\"x\":0.05},\"mapbox\":{\"style\":\"light\"}}},\"scene\":{\"domain\":{\"x\":[0.0,1.0],\"y\":[0.0,1.0]},\"xaxis\":{\"title\":{\"text\":\"Price\"}},\"yaxis\":{\"title\":{\"text\":\"Availability\"}},\"zaxis\":{\"title\":{\"text\":\"Number of products sold\"}}},\"coloraxis\":{\"colorbar\":{\"title\":{\"text\":\"cluster\"}},\"colorscale\":[[0.0,\"#0d0887\"],[0.1111111111111111,\"#46039f\"],[0.2222222222222222,\"#7201a8\"],[0.3333333333333333,\"#9c179e\"],[0.4444444444444444,\"#bd3786\"],[0.5555555555555556,\"#d8576b\"],[0.6666666666666666,\"#ed7953\"],[0.7777777777777778,\"#fb9f3a\"],[0.8888888888888888,\"#fdca26\"],[1.0,\"#f0f921\"]]},\"legend\":{\"tracegroupgap\":0},\"title\":{\"text\":\"3D Clustering of Key Numeric Features\"},\"height\":800,\"width\":1200},                        {\"responsive\": true}                    ).then(function(){\n",
       "                            \n",
       "var gd = document.getElementById('a11542dc-6579-4212-812a-146a5b43203a');\n",
       "var x = new MutationObserver(function (mutations, observer) {{\n",
       "        var display = window.getComputedStyle(gd).display;\n",
       "        if (!display || display === 'none') {{\n",
       "            console.log([gd, 'removed!']);\n",
       "            Plotly.purge(gd);\n",
       "            observer.disconnect();\n",
       "        }}\n",
       "}});\n",
       "\n",
       "// Listen for the removal of the full notebook cells\n",
       "var notebookContainer = gd.closest('#notebook-container');\n",
       "if (notebookContainer) {{\n",
       "    x.observe(notebookContainer, {childList: true});\n",
       "}}\n",
       "\n",
       "// Listen for the clearing of the current output cell\n",
       "var outputEl = gd.closest('.output');\n",
       "if (outputEl) {{\n",
       "    x.observe(outputEl, {childList: true});\n",
       "}}\n",
       "\n",
       "                        })                };                });            </script>        </div>"
      ]
     },
     "metadata": {},
     "output_type": "display_data"
    }
   ],
   "source": [
    "import pandas as pd\n",
    "import numpy as np\n",
    "from sklearn.preprocessing import StandardScaler\n",
    "from sklearn.cluster import KMeans\n",
    "import plotly.express as px\n",
    "\n",
    "# Caricamento del dataset\n",
    "file_path = \"supply_chain_data.csv\"  # Modifica il percorso se necessario\n",
    "data = pd.read_csv(file_path)\n",
    "\n",
    "# Seleziona solo le colonne numeriche per il clustering e la PCA\n",
    "numeric_data = data.select_dtypes(include=[np.number])\n",
    "\n",
    "# Standardizza i dati numerici\n",
    "scaler = StandardScaler()\n",
    "data_scaled = scaler.fit_transform(numeric_data)\n",
    "\n",
    "# Applica il clustering KMeans solo ai dati numerici\n",
    "kmeans = KMeans(n_clusters=4, random_state=42)\n",
    "clusters = kmeans.fit_predict(data_scaled)\n",
    "data['cluster'] = clusters  # Aggiunge le etichette dei cluster al dataset originale\n",
    "\n",
    "# Visualizzazione 3D interattiva dei cluster\n",
    "fig = px.scatter_3d(data, \n",
    "                    x=numeric_data.columns[0], \n",
    "                    y=numeric_data.columns[1], \n",
    "                    z=numeric_data.columns[2],\n",
    "                    color='cluster',  # Utilizza la colonna del cluster per colorare i punti\n",
    "                    title=\"3D Clustering of Key Numeric Features\",\n",
    "                    labels={\n",
    "                        numeric_data.columns[0]: numeric_data.columns[0],\n",
    "                        numeric_data.columns[1]: numeric_data.columns[1],\n",
    "                        numeric_data.columns[2]: numeric_data.columns[2]\n",
    "                    },\n",
    "                    width=1200, height=800)  # Dimensioni del grafico\n",
    "\n",
    "# Visualizzazione del grafico interattivo\n",
    "fig.show()"
   ]
  },
  {
   "cell_type": "code",
   "execution_count": 84,
   "id": "5a266ae4-f0fc-4771-881f-3342a919bdc8",
   "metadata": {},
   "outputs": [
    {
     "data": {
      "image/png": "[encoded data removed]",
      "text/plain": [
       "<Figure size 1000x800 with 2 Axes>"
      ]
     },
     "metadata": {},
     "output_type": "display_data"
    }
   ],
   "source": [
    "# Apply PCA on numeric data only\n",
    "from sklearn.decomposition import PCA\n",
    "\n",
    "pca = PCA(n_components=3)\n",
    "data_pca = pca.fit_transform(data_scaled)\n",
    "\n",
    "# 3D Visualization of PCA Results\n",
    "fig = plt.figure(figsize=(10, 8))\n",
    "ax = fig.add_subplot(111, projection='3d')\n",
    "scatter = ax.scatter(data_pca[:, 0], data_pca[:, 1], data_pca[:, 2], c=clusters, cmap='viridis')\n",
    "ax.set_xlabel('Principal Component 1')\n",
    "ax.set_ylabel('Principal Component 2')\n",
    "ax.set_zlabel('Principal Component 3')\n",
    "plt.title('3D PCA of Key Numeric Features')\n",
    "plt.colorbar(scatter, label='Cluster')\n",
    "plt.show()"
   ]
  },
  {
   "cell_type": "code",
   "execution_count": 71,
   "id": "5d08268a-7928-47cd-b2df-611732eb7934",
   "metadata": {},
   "outputs": [
    {
     "name": "stdout",
     "output_type": "stream",
     "text": [
      "Colonna 'cluster' trovata nel dataset.\n",
      "Valori unici nella colonna 'cluster': [2 1 0 3]\n"
     ]
    }
   ],
   "source": [
    "# Verifica che la colonna 'cluster' esista nel dataset\n",
    "if 'cluster' in data.columns:\n",
    "    print(\"Colonna 'cluster' trovata nel dataset.\")\n",
    "else:\n",
    "    print(\"Errore: La colonna 'cluster' non è presente nel dataset.\")\n",
    "\n",
    "# Visualizza i valori unici della colonna 'cluster' per conferma\n",
    "print(\"Valori unici nella colonna 'cluster':\", data['cluster'].unique())"
   ]
  },
  {
   "cell_type": "code",
   "execution_count": 72,
   "id": "b9c3db0a-ed1c-483c-ab84-42ff8fe00f9a",
   "metadata": {},
   "outputs": [
    {
     "name": "stdout",
     "output_type": "stream",
     "text": [
      "\n",
      "Cluster 2 Summary:\n",
      "Average Lead Times: 20.75\n",
      "Average Costs: 563.763998357594\n",
      "Average Number of Products Sold: 483.75\n",
      "\n",
      "Cluster 1 Summary:\n",
      "Average Lead Times: 18.28125\n",
      "Average Costs: 575.7041006186347\n",
      "Average Number of Products Sold: 406.09375\n",
      "\n",
      "Cluster 0 Summary:\n",
      "Average Lead Times: 10.28\n",
      "Average Costs: 380.32082454519013\n",
      "Average Number of Products Sold: 620.16\n",
      "\n",
      "Cluster 3 Summary:\n",
      "Average Lead Times: 13.473684210526315\n",
      "Average Costs: 603.3521274634626\n",
      "Average Number of Products Sold: 315.2631578947368\n",
      "\n",
      "Raccomandazioni:\n",
      "- Per i cluster con lead times elevati, considera fornitori alternativi per ridurre i tempi.\n",
      "- Per i cluster con costi elevati, valuta la negoziazione dei prezzi o una nuova strategia di approvvigionamento.\n"
     ]
    }
   ],
   "source": [
    "# Statistiche di sintesi per ogni cluster\n",
    "if 'cluster' in data.columns and data['cluster'].notna().any():\n",
    "    for cluster in data['cluster'].unique():\n",
    "        cluster_data = data[data['cluster'] == cluster]\n",
    "        print(f\"\\nCluster {cluster} Summary:\")\n",
    "        print(\"Average Lead Times:\", cluster_data['Lead times'].mean())\n",
    "        print(\"Average Costs:\", cluster_data['Costs'].mean())\n",
    "        print(\"Average Number of Products Sold:\", cluster_data['Number of products sold'].mean())\n",
    "else:\n",
    "    print(\"Errore: La colonna 'cluster' non contiene dati validi per l'analisi.\")\n",
    "# Raccomandazioni\n",
    "print(\"\\nRaccomandazioni:\")\n",
    "print(\"- Per i cluster con lead times elevati, considera fornitori alternativi per ridurre i tempi.\")\n",
    "print(\"- Per i cluster con costi elevati, valuta la negoziazione dei prezzi o una nuova strategia di approvvigionamento.\")"
   ]
  },
  {
   "cell_type": "code",
   "execution_count": null,
   "id": "295ca25c-6bb7-4686-9c30-e61f90276ecd",
   "metadata": {},
   "outputs": [],
   "source": []
  },
  {
   "cell_type": "code",
   "execution_count": 95,
   "id": "74ed52d7-57e1-4160-8e10-ad878a112446",
   "metadata": {},
   "outputs": [
    {
     "data": {
      "text/html": [
       " \n",
       "<!DOCTYPE html>\n",
       "<html lang=\"it\">\n",
       "<head>\n",
       "    <meta charset=\"UTF-8\">\n",
       "    <title>Analisi del Progetto - Supply Chain Data Analysis</title>\n",
       "    <style>\n",
       "        body { font-family: Arial, sans-serif; line-height: 1.6; color: #333; max-width: 800px; margin: auto; padding: 20px; }\n",
       "        h1, h2, h3 { color: #0056b3; }\n",
       "        h1 { text-align: center; }\n",
       "        code { background-color: #f4f4f4; padding: 2px 4px; border-radius: 4px; }\n",
       "        .section { margin-bottom: 20px; }\n",
       "    </style>\n",
       "</head>\n",
       "<body>\n",
       "\n",
       "    <h1>Supply Chain Data Analysis Project</h1>\n",
       "    \n",
       "    <div class=\"section\">\n",
       "        <h2>Introduzione</h2>\n",
       "        <p>In questo progetto, abbiamo condotto un'analisi dettagliata dei dati di una catena di approvvigionamento per ottimizzare la logistica, ridurre i costi operativi e migliorare le prestazioni della supply chain. I dati analizzati includono informazioni sui tempi di consegna, costi di trasporto, fornitori e volumi di produzione.</p>\n",
       "    </div>\n",
       "\n",
       "    <div class=\"section\">\n",
       "        <h2>Obiettivi dell'Analisi</h2>\n",
       "        <p>L'obiettivo principale di questo progetto è stato quello di identificare aree di ottimizzazione per la catena di approvvigionamento. In particolare:</p>\n",
       "        <ul>\n",
       "            <li>Analizzare la distribuzione dei lead times e valutare le differenze tra fornitori.</li>\n",
       "            <li>Utilizzare metodi di clustering per suddividere i prodotti e le consegne in gruppi significativi.</li>\n",
       "            <li>Fornire insight visuali per comprendere meglio le dinamiche dei tempi di consegna, costi e volumi di vendita.</li>\n",
       "        </ul>\n",
       "    </div>\n",
       "\n",
       "    <div class=\"section\">\n",
       "        <h2>Metodologia</h2>\n",
       "        <p>Per raggiungere gli obiettivi del progetto, abbiamo seguito i seguenti passaggi:</p>\n",
       "\n",
       "        <h3>1. Caricamento e Pulizia dei Dati</h3>\n",
       "        <p>Abbiamo caricato i dati utilizzando <code>pandas</code> e identificato le colonne numeriche e categoriali. Successivamente, i valori mancanti sono stati riempiti utilizzando la mediana per le colonne numeriche e la moda per quelle categoriali, garantendo dati completi per l'analisi.</p>\n",
       "\n",
       "        <h3>2. Standardizzazione dei Dati</h3>\n",
       "        <p>Prima di applicare il clustering, abbiamo standardizzato i dati numerici per eliminare qualsiasi effetto di scala. Questo è stato realizzato con <code>StandardScaler</code> di <code>sklearn</code>.</p>\n",
       "\n",
       "        <h3>3. Clustering K-Means</h3>\n",
       "        <p>Abbiamo utilizzato l'algoritmo di clustering <code>KMeans</code> con 4 cluster per suddividere i dati in gruppi significativi. Questo ci ha permesso di identificare cluster di prodotti e consegne con caratteristiche simili, come costi, tempi di consegna e volumi di vendita.</p>\n",
       "\n",
       "        <h3>4. Visualizzazione dei Risultati</h3>\n",
       "        <p>Le visualizzazioni sono state cruciali per interpretare i risultati e includono:</p>\n",
       "        <ul>\n",
       "            <li><b>Distribuzione dei Lead Times</b>: Un istogramma che mostra la distribuzione dei tempi di consegna.</li>\n",
       "            <li><b>Distribuzione dei Costi per Fornitore</b>: Boxplot per confrontare i costi tra i fornitori.</li>\n",
       "            <li><b>Visualizzazione 3D dei Cluster</b>: Un grafico tridimensionale per analizzare i cluster in base a lead times, costi e volumi di vendita.</li>\n",
       "            <li><b>Totale Prodotti Venduti per Cluster</b>: Grafico a barre per visualizzare il numero totale di prodotti venduti per ogni cluster.</li>\n",
       "            <li><b>Distribuzione Lead Times vs Costs</b>: Un scatter plot per mostrare la correlazione tra tempi di consegna e costi nei diversi cluster.</li>\n",
       "        </ul>\n",
       "    </div>\n",
       "\n",
       "    <div class=\"section\">\n",
       "        <h2>Risultati e Conclusioni</h2>\n",
       "        <p>I risultati dell'analisi forniscono insight importanti per ottimizzare la supply chain:</p>\n",
       "        <ul>\n",
       "            <li>La distribuzione dei lead times ha mostrato una significativa variabilità, suggerendo la necessità di rivedere alcuni processi logistici.</li>\n",
       "            <li>I costi dei fornitori variano notevolmente, indicando che alcuni fornitori potrebbero richiedere negoziazioni di prezzo per ridurre i costi complessivi.</li>\n",
       "            <li>Il clustering ha identificato gruppi di prodotti con caratteristiche simili, permettendo di personalizzare le strategie di gestione per ogni cluster.</li>\n",
       "            <li>Le visualizzazioni tridimensionali dei cluster forniscono una chiara visione delle relazioni tra tempi di consegna, costi e volumi di vendita, indicando potenziali colli di bottiglia nella catena di approvvigionamento.</li>\n",
       "        </ul>\n",
       "        <p>In conclusione, questa analisi supporta il processo decisionale nella gestione della supply chain e suggerisce strategie per migliorare l'efficienza logistica e ridurre i costi operativi.</p>\n",
       "    </div>\n",
       "\n",
       "    <div class=\"section\">\n",
       "        <h2>Possibili Estensioni del Progetto</h2>\n",
       "        <p>Per migliorare ulteriormente l'analisi, si potrebbero implementare i seguenti metodi:</p>\n",
       "        <ul>\n",
       "            <li><b>Analisi Predittiva</b>: Utilizzare modelli di machine learning per prevedere i lead times in base a fattori storici.</li>\n",
       "            <li><b>Ottimizzazione della Rotta</b>: Implementare algoritmi di ottimizzazione per migliorare l'efficienza delle rotte di trasporto.</li>\n",
       "            <li><b>Analisi dei Costi Variabili</b>: Monitorare i costi variabili per identificare opportunità di riduzione delle spese operative.</li>\n",
       "        </ul>\n",
       "    </div>\n",
       "\n",
       "</body>\n",
       "</html>\n"
      ],
      "text/plain": [
       "<IPython.core.display.HTML object>"
      ]
     },
     "execution_count": 95,
     "metadata": {},
     "output_type": "execute_result"
    }
   ],
   "source": [
    "from IPython.display import display, HTML\n",
    "\n",
    "\n",
    "html_content = ''' \n",
    "<!DOCTYPE html>\n",
    "<html lang=\"it\">\n",
    "<head>\n",
    "    <meta charset=\"UTF-8\">\n",
    "    <title>Analisi del Progetto - Supply Chain Data Analysis</title>\n",
    "    <style>\n",
    "        body { font-family: Arial, sans-serif; line-height: 1.6; color: #333; max-width: 800px; margin: auto; padding: 20px; }\n",
    "        h1, h2, h3 { color: #0056b3; }\n",
    "        h1 { text-align: center; }\n",
    "        code { background-color: #f4f4f4; padding: 2px 4px; border-radius: 4px; }\n",
    "        .section { margin-bottom: 20px; }\n",
    "    </style>\n",
    "</head>\n",
    "<body>\n",
    "\n",
    "    <h1>Supply Chain Data Analysis Project</h1>\n",
    "    \n",
    "    <div class=\"section\">\n",
    "        <h2>Introduzione</h2>\n",
    "        <p>In questo progetto, abbiamo condotto un'analisi dettagliata dei dati di una catena di approvvigionamento per ottimizzare la logistica, ridurre i costi operativi e migliorare le prestazioni della supply chain. I dati analizzati includono informazioni sui tempi di consegna, costi di trasporto, fornitori e volumi di produzione.</p>\n",
    "    </div>\n",
    "\n",
    "    <div class=\"section\">\n",
    "        <h2>Obiettivi dell'Analisi</h2>\n",
    "        <p>L'obiettivo principale di questo progetto è stato quello di identificare aree di ottimizzazione per la catena di approvvigionamento. In particolare:</p>\n",
    "        <ul>\n",
    "            <li>Analizzare la distribuzione dei lead times e valutare le differenze tra fornitori.</li>\n",
    "            <li>Utilizzare metodi di clustering per suddividere i prodotti e le consegne in gruppi significativi.</li>\n",
    "            <li>Fornire insight visuali per comprendere meglio le dinamiche dei tempi di consegna, costi e volumi di vendita.</li>\n",
    "        </ul>\n",
    "    </div>\n",
    "\n",
    "    <div class=\"section\">\n",
    "        <h2>Metodologia</h2>\n",
    "        <p>Per raggiungere gli obiettivi del progetto, abbiamo seguito i seguenti passaggi:</p>\n",
    "\n",
    "        <h3>1. Caricamento e Pulizia dei Dati</h3>\n",
    "        <p>Abbiamo caricato i dati utilizzando <code>pandas</code> e identificato le colonne numeriche e categoriali. Successivamente, i valori mancanti sono stati riempiti utilizzando la mediana per le colonne numeriche e la moda per quelle categoriali, garantendo dati completi per l'analisi.</p>\n",
    "\n",
    "        <h3>2. Standardizzazione dei Dati</h3>\n",
    "        <p>Prima di applicare il clustering, abbiamo standardizzato i dati numerici per eliminare qualsiasi effetto di scala. Questo è stato realizzato con <code>StandardScaler</code> di <code>sklearn</code>.</p>\n",
    "\n",
    "        <h3>3. Clustering K-Means</h3>\n",
    "        <p>Abbiamo utilizzato l'algoritmo di clustering <code>KMeans</code> con 4 cluster per suddividere i dati in gruppi significativi. Questo ci ha permesso di identificare cluster di prodotti e consegne con caratteristiche simili, come costi, tempi di consegna e volumi di vendita.</p>\n",
    "\n",
    "        <h3>4. Visualizzazione dei Risultati</h3>\n",
    "        <p>Le visualizzazioni sono state cruciali per interpretare i risultati e includono:</p>\n",
    "        <ul>\n",
    "            <li><b>Distribuzione dei Lead Times</b>: Un istogramma che mostra la distribuzione dei tempi di consegna.</li>\n",
    "            <li><b>Distribuzione dei Costi per Fornitore</b>: Boxplot per confrontare i costi tra i fornitori.</li>\n",
    "            <li><b>Visualizzazione 3D dei Cluster</b>: Un grafico tridimensionale per analizzare i cluster in base a lead times, costi e volumi di vendita.</li>\n",
    "            <li><b>Totale Prodotti Venduti per Cluster</b>: Grafico a barre per visualizzare il numero totale di prodotti venduti per ogni cluster.</li>\n",
    "            <li><b>Distribuzione Lead Times vs Costs</b>: Un scatter plot per mostrare la correlazione tra tempi di consegna e costi nei diversi cluster.</li>\n",
    "        </ul>\n",
    "    </div>\n",
    "\n",
    "    <div class=\"section\">\n",
    "        <h2>Risultati e Conclusioni</h2>\n",
    "        <p>I risultati dell'analisi forniscono insight importanti per ottimizzare la supply chain:</p>\n",
    "        <ul>\n",
    "            <li>La distribuzione dei lead times ha mostrato una significativa variabilità, suggerendo la necessità di rivedere alcuni processi logistici.</li>\n",
    "            <li>I costi dei fornitori variano notevolmente, indicando che alcuni fornitori potrebbero richiedere negoziazioni di prezzo per ridurre i costi complessivi.</li>\n",
    "            <li>Il clustering ha identificato gruppi di prodotti con caratteristiche simili, permettendo di personalizzare le strategie di gestione per ogni cluster.</li>\n",
    "            <li>Le visualizzazioni tridimensionali dei cluster forniscono una chiara visione delle relazioni tra tempi di consegna, costi e volumi di vendita, indicando potenziali colli di bottiglia nella catena di approvvigionamento.</li>\n",
    "        </ul>\n",
    "        <p>In conclusione, questa analisi supporta il processo decisionale nella gestione della supply chain e suggerisce strategie per migliorare l'efficienza logistica e ridurre i costi operativi.</p>\n",
    "    </div>\n",
    "\n",
    "    <div class=\"section\">\n",
    "        <h2>Possibili Estensioni del Progetto</h2>\n",
    "        <p>Per migliorare ulteriormente l'analisi, si potrebbero implementare i seguenti metodi:</p>\n",
    "        <ul>\n",
    "            <li><b>Analisi Predittiva</b>: Utilizzare modelli di machine learning per prevedere i lead times in base a fattori storici.</li>\n",
    "            <li><b>Ottimizzazione della Rotta</b>: Implementare algoritmi di ottimizzazione per migliorare l'efficienza delle rotte di trasporto.</li>\n",
    "            <li><b>Analisi dei Costi Variabili</b>: Monitorare i costi variabili per identificare opportunità di riduzione delle spese operative.</li>\n",
    "        </ul>\n",
    "    </div>\n",
    "\n",
    "</body>\n",
    "</html>\n",
    "'''\n",
    "HTML(html_content)"
   ]
  },
  {
   "cell_type": "code",
   "execution_count": null,
   "id": "51eb06f3-78d5-4727-a02d-3345f7d45b95",
   "metadata": {},
   "outputs": [],
   "source": []
  }
 ],
 "metadata": {
  "kernelspec": {
   "display_name": "Python 3 (ipykernel)",
   "language": "python",
   "name": "python3"
  },
  "language_info": {
   "codemirror_mode": {
    "name": "ipython",
    "version": 3
   },
   "file_extension": ".py",
   "mimetype": "text/x-python",
   "name": "python",
   "nbconvert_exporter": "python",
   "pygments_lexer": "ipython3",
   "version": "3.12.4"
  }
 },
 "nbformat": 4,
 "nbformat_minor": 5
}
